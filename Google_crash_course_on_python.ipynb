{
  "metadata": {
    "kernelspec": {
      "language": "python",
      "display_name": "Python 3",
      "name": "python3"
    },
    "language_info": {
      "pygments_lexer": "ipython3",
      "nbconvert_exporter": "python",
      "version": "3.6.4",
      "file_extension": ".py",
      "codemirror_mode": {
        "name": "ipython",
        "version": 3
      },
      "name": "python",
      "mimetype": "text/x-python"
    },
    "colab": {
      "name": "Google_crash_course_on_python",
      "provenance": [],
      "include_colab_link": true
    }
  },
  "nbformat_minor": 0,
  "nbformat": 4,
  "cells": [
    {
      "cell_type": "markdown",
      "metadata": {
        "id": "view-in-github",
        "colab_type": "text"
      },
      "source": [
        "<a href=\"https://colab.research.google.com/github/hania345/Coursera-project-/blob/main/Google_crash_course_on_python.ipynb\" target=\"_parent\"><img src=\"https://colab.research.google.com/assets/colab-badge.svg\" alt=\"Open In Colab\"/></a>"
      ]
    },
    {
      "cell_type": "markdown",
      "source": [
        "<img src=\"https://th.bing.com/th/id/OIP.iJ1yjtCeJfD2khGqkui3CAHaB4?pid=ImgDet&rs=1\" alt=\"python logo\" width=\"1000px\">\n",
        "<h1 align=\"center\">Coursera: Google Crash Course on Python</h1>\n",
        "\n",
        "## This repository contains solutions to coding exercises as notebooks prepared by me.\n",
        "\n",
        "# NOTE:\n",
        "- All the codes were tested and passed on coursera.\n",
        "- If you find any error or face any issue, let me know through issue section.\n",
        "- The questions are as presented exactly in the course without any modification.  \n",
        "- If you don't find any problem solution of practice quiz or module assessment, open an issue including the problem description along week number. :fire:\n",
        "\n",
        "\n",
        "**Crash Course on Python** part of the ***Google IT Automation with Python Professional Certificate***\n",
        "\n",
        "  - **Week 1: Introduction to Python**\n",
        "    - [x] Practice Quiz: Introduction to python\n",
        "    - [x] Practice Quiz: Hello World\n",
        "    - [x] Module 2 Graded Assessment\n",
        "  \n",
        "  - **Week 2: Basic Python Syntax**    \n",
        "    - [x] Practice Quiz: Expressions and Variables\n",
        "    - [x] Practice Quiz: Functions\n",
        "    - [x] Practice Quiz: Conditionals\n",
        "    - [x] Module 2 Graded Assessment\n",
        "\n",
        "  - **Week 3: Loops**\n",
        "    - [x] Practice Quiz: While Loops\n",
        "    - [x] Practice Quiz: For Loops\n",
        "    - [x] Practice Quiz: Recursion(Optional)\n",
        "    - [x] Module 3 Graded Assessment\n",
        "    \n",
        "  - **Week 4: Strings, Lists and Dictionaries**\n",
        "    - [x] Practice Quiz: Strings\n",
        "    - [x] Practice Quiz: Lists\n",
        "    - [x] Practice Quiz: Dictionaries\n",
        "    - [x] Module 4 Graded Assessment\n",
        "\n",
        "  - **Week 5: Object Oriented Programming (Optional)**\n",
        "    - [x] Basics of Object Oriented Programming\n",
        "    - [x] Methods and Classes (Optional)\n",
        "    - [x] Code Reuse (Optional)\n",
        "    - [x] Practice Notebook: Object Oriented Programming (Optional)\n",
        "\n",
        "  - **Week 6: Final Project**\n",
        "    - [x] Practice Notebook - Putting It All Together\n",
        "    - [x] Final Project: WordCloud"
      ],
      "metadata": {
        "id": "1Jq3Av6nTqAy"
      }
    },
    {
      "cell_type": "markdown",
      "source": [
        "<h1 align= \"center\">WEEK ONE<h1>"
      ],
      "metadata": {
        "id": "4bsLUFyvTqBC"
      }
    },
    {
      "cell_type": "markdown",
      "source": [
        "## Practice Quiz: Introduction to python"
      ],
      "metadata": {
        "id": "5UO7nEdSTqBE"
      }
    },
    {
      "cell_type": "markdown",
      "source": [
        "Question 1:\n",
        "Fill in the correct Python command to put “My first Python program” onto the screen."
      ],
      "metadata": {
        "id": "o_x8tyaoTqBG"
      }
    },
    {
      "cell_type": "code",
      "source": [
        "print(\"My first Python program\")"
      ],
      "metadata": {
        "execution": {
          "iopub.status.busy": "2022-09-13T09:51:10.144428Z",
          "iopub.execute_input": "2022-09-13T09:51:10.144865Z",
          "iopub.status.idle": "2022-09-13T09:51:10.15774Z",
          "shell.execute_reply.started": "2022-09-13T09:51:10.144783Z",
          "shell.execute_reply": "2022-09-13T09:51:10.156522Z"
        },
        "trusted": true,
        "id": "QWlS5GQXTqBI",
        "outputId": "d33af6c1-61a5-4872-c464-a3431614f70e",
        "colab": {
          "base_uri": "https://localhost:8080/"
        }
      },
      "execution_count": 1,
      "outputs": [
        {
          "output_type": "stream",
          "name": "stdout",
          "text": [
            "My first Python program\n"
          ]
        }
      ]
    },
    {
      "cell_type": "markdown",
      "source": [
        "Question 3:\n",
        "Convert this Bash command into Python:"
      ],
      "metadata": {
        "id": "rUyqzUsVTqBL"
      }
    },
    {
      "cell_type": "code",
      "source": [
        "print(\"Have a nice day\")"
      ],
      "metadata": {
        "execution": {
          "iopub.status.busy": "2022-09-13T09:51:10.159982Z",
          "iopub.execute_input": "2022-09-13T09:51:10.160429Z",
          "iopub.status.idle": "2022-09-13T09:51:10.172996Z",
          "shell.execute_reply.started": "2022-09-13T09:51:10.160389Z",
          "shell.execute_reply": "2022-09-13T09:51:10.171546Z"
        },
        "trusted": true,
        "id": "X_ue1gCjTqBN",
        "outputId": "f1b54464-4ee1-4c9d-d693-2b5eab497aff",
        "colab": {
          "base_uri": "https://localhost:8080/"
        }
      },
      "execution_count": 2,
      "outputs": [
        {
          "output_type": "stream",
          "name": "stdout",
          "text": [
            "Have a nice day\n"
          ]
        }
      ]
    },
    {
      "cell_type": "markdown",
      "source": [
        "Question 4:\n",
        "Fill in the correct Python commands to put “This is fun!” onto the screen 5 times"
      ],
      "metadata": {
        "id": "4otn2rB0TqBP"
      }
    },
    {
      "cell_type": "code",
      "source": [
        "for i in range(5):\n",
        "  print(\"This is fun!\")"
      ],
      "metadata": {
        "execution": {
          "iopub.status.busy": "2022-09-13T09:51:10.17457Z",
          "iopub.execute_input": "2022-09-13T09:51:10.174929Z",
          "iopub.status.idle": "2022-09-13T09:51:10.184817Z",
          "shell.execute_reply.started": "2022-09-13T09:51:10.174894Z",
          "shell.execute_reply": "2022-09-13T09:51:10.183417Z"
        },
        "trusted": true,
        "id": "aTE0DzQaTqBR",
        "outputId": "8faad10a-0ef9-4718-b4aa-2ad54f8a68b4",
        "colab": {
          "base_uri": "https://localhost:8080/"
        }
      },
      "execution_count": 3,
      "outputs": [
        {
          "output_type": "stream",
          "name": "stdout",
          "text": [
            "This is fun!\n",
            "This is fun!\n",
            "This is fun!\n",
            "This is fun!\n",
            "This is fun!\n"
          ]
        }
      ]
    },
    {
      "cell_type": "markdown",
      "source": [
        "Select the Python code snippet that corresponds to the following Javascript snippet:"
      ],
      "metadata": {
        "id": "4DbrYaOVTqBT"
      }
    },
    {
      "cell_type": "code",
      "source": [
        "for i in range(10):\n",
        "  print(i)"
      ],
      "metadata": {
        "execution": {
          "iopub.status.busy": "2022-09-13T09:51:10.18719Z",
          "iopub.execute_input": "2022-09-13T09:51:10.187536Z",
          "iopub.status.idle": "2022-09-13T09:51:10.197242Z",
          "shell.execute_reply.started": "2022-09-13T09:51:10.187507Z",
          "shell.execute_reply": "2022-09-13T09:51:10.195875Z"
        },
        "trusted": true,
        "id": "SJr0iuUcTqBU",
        "outputId": "08212237-36ba-4d06-bb39-5af2d5a63d17",
        "colab": {
          "base_uri": "https://localhost:8080/"
        }
      },
      "execution_count": 4,
      "outputs": [
        {
          "output_type": "stream",
          "name": "stdout",
          "text": [
            "0\n",
            "1\n",
            "2\n",
            "3\n",
            "4\n",
            "5\n",
            "6\n",
            "7\n",
            "8\n",
            "9\n"
          ]
        }
      ]
    },
    {
      "cell_type": "markdown",
      "source": [
        "## Practice Quiz: Hello world"
      ],
      "metadata": {
        "id": "JJqg3hsPTqBW"
      }
    },
    {
      "cell_type": "markdown",
      "source": [
        "Question 4:\n",
        "Output a message that says \"Programming in Python is fun!\" to the screen."
      ],
      "metadata": {
        "id": "HtBo4m1rTqBX"
      }
    },
    {
      "cell_type": "code",
      "source": [
        "print(\"Programming in Python is fun!\")"
      ],
      "metadata": {
        "execution": {
          "iopub.status.busy": "2022-09-13T09:51:10.200082Z",
          "iopub.execute_input": "2022-09-13T09:51:10.200431Z",
          "iopub.status.idle": "2022-09-13T09:51:10.209587Z",
          "shell.execute_reply.started": "2022-09-13T09:51:10.200403Z",
          "shell.execute_reply": "2022-09-13T09:51:10.20872Z"
        },
        "trusted": true,
        "id": "c0_DYPxETqBX",
        "outputId": "eafde350-6450-46c0-8129-b9aa492bd329",
        "colab": {
          "base_uri": "https://localhost:8080/"
        }
      },
      "execution_count": 5,
      "outputs": [
        {
          "output_type": "stream",
          "name": "stdout",
          "text": [
            "Programming in Python is fun!\n"
          ]
        }
      ]
    },
    {
      "cell_type": "markdown",
      "source": [
        "Replace the ___ placeholder and calculate the Golden ratio:  \\frac{1+\\sqrt{5}}{2}\n",
        "2\n",
        "1+\n",
        "5\n",
        "​\n",
        "\n",
        "​\n",
        " .\n",
        "\n",
        "Tip: to calculate the square root of a number xx, you can use x**(1/2)."
      ],
      "metadata": {
        "id": "sXWNIyICTqBY"
      }
    },
    {
      "cell_type": "code",
      "source": [
        "ratio = (1+5**(1/2))/2\n",
        "print(ratio)"
      ],
      "metadata": {
        "execution": {
          "iopub.status.busy": "2022-09-13T09:51:10.210895Z",
          "iopub.execute_input": "2022-09-13T09:51:10.211429Z",
          "iopub.status.idle": "2022-09-13T09:51:10.223312Z",
          "shell.execute_reply.started": "2022-09-13T09:51:10.211402Z",
          "shell.execute_reply": "2022-09-13T09:51:10.222348Z"
        },
        "trusted": true,
        "id": "4hNSVykETqBZ",
        "outputId": "e61fafbf-734a-4c34-f254-f8e4c2965187",
        "colab": {
          "base_uri": "https://localhost:8080/"
        }
      },
      "execution_count": 6,
      "outputs": [
        {
          "output_type": "stream",
          "name": "stdout",
          "text": [
            "1.618033988749895\n"
          ]
        }
      ]
    },
    {
      "cell_type": "markdown",
      "source": [
        "## Graded Assessment"
      ],
      "metadata": {
        "id": "ObwYuU06TqBa"
      }
    },
    {
      "cell_type": "markdown",
      "source": [
        "Question 6:\n",
        "Write a Python script that outputs \"Automating with Python is fun!\" to the screen"
      ],
      "metadata": {
        "id": "_4EoAxe7TqBa"
      }
    },
    {
      "cell_type": "code",
      "source": [
        "print(\"Automating with Python is fun!\")"
      ],
      "metadata": {
        "execution": {
          "iopub.status.busy": "2022-09-13T09:51:10.224266Z",
          "iopub.execute_input": "2022-09-13T09:51:10.224794Z",
          "iopub.status.idle": "2022-09-13T09:51:10.23551Z",
          "shell.execute_reply.started": "2022-09-13T09:51:10.224767Z",
          "shell.execute_reply": "2022-09-13T09:51:10.233802Z"
        },
        "trusted": true,
        "id": "uYOAjdkITqBa",
        "outputId": "d586804f-ddc5-43f8-f117-6d8c37694376",
        "colab": {
          "base_uri": "https://localhost:8080/"
        }
      },
      "execution_count": 7,
      "outputs": [
        {
          "output_type": "stream",
          "name": "stdout",
          "text": [
            "Automating with Python is fun!\n"
          ]
        }
      ]
    },
    {
      "cell_type": "markdown",
      "source": [
        "Question 7:\n",
        "Fill in the blanks so that the code prints \"Yellow is the color of sunshine\"."
      ],
      "metadata": {
        "id": "bpnOZUtoTqBb"
      }
    },
    {
      "cell_type": "code",
      "source": [
        "print (\"Yellow is the color of sunshine\")"
      ],
      "metadata": {
        "execution": {
          "iopub.status.busy": "2022-09-13T09:51:10.236688Z",
          "iopub.execute_input": "2022-09-13T09:51:10.237615Z",
          "iopub.status.idle": "2022-09-13T09:51:10.250595Z",
          "shell.execute_reply.started": "2022-09-13T09:51:10.23758Z",
          "shell.execute_reply": "2022-09-13T09:51:10.249091Z"
        },
        "trusted": true,
        "id": "BZa4b41mTqBb",
        "outputId": "3ab3d673-0e6d-4f0f-c325-f78825186b73",
        "colab": {
          "base_uri": "https://localhost:8080/"
        }
      },
      "execution_count": 8,
      "outputs": [
        {
          "output_type": "stream",
          "name": "stdout",
          "text": [
            "Yellow is the color of sunshine\n"
          ]
        }
      ]
    },
    {
      "cell_type": "markdown",
      "source": [
        "Question 8:\n",
        "Keeping in mind there are 86400 seconds per day, write a program that calculates how many seconds there are in a week, if a week is 7 days.  Print the result on the screen.\n",
        "\n",
        "Note: Your result should be in the format of just a number, not a sentence."
      ],
      "metadata": {
        "id": "t-aTYDbyTqBc"
      }
    },
    {
      "cell_type": "code",
      "source": [
        "x = 86400*7\n",
        "print(x)"
      ],
      "metadata": {
        "execution": {
          "iopub.status.busy": "2022-09-13T09:51:10.252336Z",
          "iopub.execute_input": "2022-09-13T09:51:10.252756Z",
          "iopub.status.idle": "2022-09-13T09:51:10.261466Z",
          "shell.execute_reply.started": "2022-09-13T09:51:10.252719Z",
          "shell.execute_reply": "2022-09-13T09:51:10.260691Z"
        },
        "trusted": true,
        "id": "PuYVG_GVTqBc",
        "outputId": "031d21ae-524c-4bb4-f7c9-16bca8d7c77a",
        "colab": {
          "base_uri": "https://localhost:8080/"
        }
      },
      "execution_count": 9,
      "outputs": [
        {
          "output_type": "stream",
          "name": "stdout",
          "text": [
            "604800\n"
          ]
        }
      ]
    },
    {
      "cell_type": "markdown",
      "source": [
        "Question 9:\n",
        "Use Python to calculate how many different passwords can be formed with 6 lower case English letters.  For a 1 letter password, there would be 26 possibilities.  For a 2 letter password, each letter is independent of the other, so there would be 26 times 26 possibilities.  Using this information, print the amount of possible passwords that can be formed with 6 letters."
      ],
      "metadata": {
        "id": "KDK9Xe3jTqBd"
      }
    },
    {
      "cell_type": "code",
      "source": [
        "x = 26**6\n",
        "print(x)"
      ],
      "metadata": {
        "execution": {
          "iopub.status.busy": "2022-09-13T09:51:10.265925Z",
          "iopub.execute_input": "2022-09-13T09:51:10.266993Z",
          "iopub.status.idle": "2022-09-13T09:51:10.274371Z",
          "shell.execute_reply.started": "2022-09-13T09:51:10.266877Z",
          "shell.execute_reply": "2022-09-13T09:51:10.273124Z"
        },
        "trusted": true,
        "id": "Ovd5vkxETqBe",
        "outputId": "05260e26-8734-4bbd-df93-9277c3bf4987",
        "colab": {
          "base_uri": "https://localhost:8080/"
        }
      },
      "execution_count": 10,
      "outputs": [
        {
          "output_type": "stream",
          "name": "stdout",
          "text": [
            "308915776\n"
          ]
        }
      ]
    },
    {
      "cell_type": "markdown",
      "source": [
        "Question 10:\n",
        "Most hard drives are divided into sectors of 512 bytes each.  Our disk has a size of 16 GB. Fill in the blank to calculate how many sectors the disk has.\n",
        "\n",
        "Note: Your result should be in the format of just a number, not a sentence."
      ],
      "metadata": {
        "id": "zoPe1-UnTqBe"
      }
    },
    {
      "cell_type": "code",
      "source": [
        "disk_size = 16*1024**3\n",
        "sector_size = 512\n",
        "sector_amount = disk_size // sector_size\n",
        "\n",
        "print(sector_amount)"
      ],
      "metadata": {
        "execution": {
          "iopub.status.busy": "2022-09-13T09:51:10.275974Z",
          "iopub.execute_input": "2022-09-13T09:51:10.276866Z",
          "iopub.status.idle": "2022-09-13T09:51:10.284855Z",
          "shell.execute_reply.started": "2022-09-13T09:51:10.276822Z",
          "shell.execute_reply": "2022-09-13T09:51:10.283807Z"
        },
        "trusted": true,
        "id": "xOLWE3T4TqBf",
        "outputId": "c6f4b8c5-02e5-421e-f5d0-4b9c4f696458",
        "colab": {
          "base_uri": "https://localhost:8080/"
        }
      },
      "execution_count": 11,
      "outputs": [
        {
          "output_type": "stream",
          "name": "stdout",
          "text": [
            "33554432\n"
          ]
        }
      ]
    },
    {
      "cell_type": "markdown",
      "source": [
        "<h1 align= \"center\">WEEK TWO<h1>"
      ],
      "metadata": {
        "id": "fjNlnkeeTqBf"
      }
    },
    {
      "cell_type": "markdown",
      "source": [
        "## Practice Quiz: Expressions and Variables"
      ],
      "metadata": {
        "id": "0jRad6aCTqBg"
      }
    },
    {
      "cell_type": "markdown",
      "source": [
        "Question 1:\n",
        "In this scenario, two friends are eating dinner at a restaurant. The bill comes in the amount of 47.28 dollars. The friends decide to split the bill evenly between them, after adding 15% tip for the service. Calculate the tip, the total amount to pay, and each friend's share, then output a message saying \"Each person needs to pay: \" followed by the resulting number"
      ],
      "metadata": {
        "id": "OEbC23mbTqBg"
      }
    },
    {
      "cell_type": "code",
      "source": [
        "bill = 47.28\n",
        "tip = bill*0.15\n",
        "total_bill = bill + tip\n",
        "price_for_each = total_bill/2\n",
        "print(f\"Each person needs to pay: {price_for_each}\")\n"
      ],
      "metadata": {
        "execution": {
          "iopub.status.busy": "2022-09-13T09:51:10.286156Z",
          "iopub.execute_input": "2022-09-13T09:51:10.286453Z",
          "iopub.status.idle": "2022-09-13T09:51:10.300307Z",
          "shell.execute_reply.started": "2022-09-13T09:51:10.286425Z",
          "shell.execute_reply": "2022-09-13T09:51:10.299364Z"
        },
        "trusted": true,
        "id": "GARIvs5xTqBh",
        "outputId": "378a3c8a-f802-4cbd-90b6-850a95e5e291",
        "colab": {
          "base_uri": "https://localhost:8080/"
        }
      },
      "execution_count": 12,
      "outputs": [
        {
          "output_type": "stream",
          "name": "stdout",
          "text": [
            "Each person needs to pay: 27.186\n"
          ]
        }
      ]
    },
    {
      "cell_type": "markdown",
      "source": [
        "Question 2:\n",
        "This code is supposed to take two numbers, divide one by another so that the result is equal to 1, and display the result on the screen. Unfortunately, there is an error in the code. Find the error and fix it, so that the output is correct."
      ],
      "metadata": {
        "id": "eTZENtJITqBh"
      }
    },
    {
      "cell_type": "code",
      "source": [
        "numerator = 10\n",
        "denominator = numerator\n",
        "result = numerator / denominator\n",
        "print(int(result))"
      ],
      "metadata": {
        "execution": {
          "iopub.status.busy": "2022-09-13T09:51:10.301415Z",
          "iopub.execute_input": "2022-09-13T09:51:10.302461Z",
          "iopub.status.idle": "2022-09-13T09:51:10.310354Z",
          "shell.execute_reply.started": "2022-09-13T09:51:10.302427Z",
          "shell.execute_reply": "2022-09-13T09:51:10.309592Z"
        },
        "trusted": true,
        "id": "-RMcxxBtTqBi",
        "outputId": "5dc448fd-e2f5-496d-e4d3-aca9cc9c441d",
        "colab": {
          "base_uri": "https://localhost:8080/"
        }
      },
      "execution_count": 13,
      "outputs": [
        {
          "output_type": "stream",
          "name": "stdout",
          "text": [
            "1\n"
          ]
        }
      ]
    },
    {
      "cell_type": "markdown",
      "source": [
        "Question 3:\n",
        "Combine the variables to display the sentence \"How do you like Python so far?\""
      ],
      "metadata": {
        "id": "qiNxvziSTqBr"
      }
    },
    {
      "cell_type": "code",
      "source": [
        "word1 = \"How\"\n",
        "word2 = \"do\"\n",
        "word3 = \"you\"\n",
        "word4 = \"like\"\n",
        "word5 = \"Python\"\n",
        "word6 = \"so\"\n",
        "word7 = \"far?\"\n",
        "print(f\"{word1} {word2} {word3} {word4} {word5} {word6} {word7}\")"
      ],
      "metadata": {
        "execution": {
          "iopub.status.busy": "2022-09-13T09:51:10.311509Z",
          "iopub.execute_input": "2022-09-13T09:51:10.31257Z",
          "iopub.status.idle": "2022-09-13T09:51:10.32955Z",
          "shell.execute_reply.started": "2022-09-13T09:51:10.312542Z",
          "shell.execute_reply": "2022-09-13T09:51:10.328201Z"
        },
        "trusted": true,
        "id": "0CDD6K0XTqBs",
        "outputId": "a34f85d4-729c-4ce1-eabc-52b5baec28c8",
        "colab": {
          "base_uri": "https://localhost:8080/"
        }
      },
      "execution_count": 14,
      "outputs": [
        {
          "output_type": "stream",
          "name": "stdout",
          "text": [
            "How do you like Python so far?\n"
          ]
        }
      ]
    },
    {
      "cell_type": "markdown",
      "source": [
        "Question 4:\n",
        "This code is supposed to display \"2 + 2 = 4\" on the screen, but there is an error. Find the error in the code and fix it, so that the output is correct."
      ],
      "metadata": {
        "id": "ZESsYH5uTqBt"
      }
    },
    {
      "cell_type": "code",
      "source": [
        "print(\"2 + 2 = \" + str(2 + 2))"
      ],
      "metadata": {
        "execution": {
          "iopub.status.busy": "2022-09-13T09:51:10.330779Z",
          "iopub.execute_input": "2022-09-13T09:51:10.331447Z",
          "iopub.status.idle": "2022-09-13T09:51:10.341798Z",
          "shell.execute_reply.started": "2022-09-13T09:51:10.331416Z",
          "shell.execute_reply": "2022-09-13T09:51:10.340791Z"
        },
        "trusted": true,
        "id": "tvc7lyRvTqBt",
        "outputId": "90029c26-423c-4537-9918-73cefa6809e5",
        "colab": {
          "base_uri": "https://localhost:8080/"
        }
      },
      "execution_count": 15,
      "outputs": [
        {
          "output_type": "stream",
          "name": "stdout",
          "text": [
            "2 + 2 = 4\n"
          ]
        }
      ]
    },
    {
      "cell_type": "markdown",
      "source": [
        "## Practice Quiz: Functions"
      ],
      "metadata": {
        "id": "4QsoofS_TqBu"
      }
    },
    {
      "cell_type": "markdown",
      "source": [
        "Question 1:\n",
        "This function converts miles to kilometers (km).\n",
        "\n",
        "1. Complete the function to return the result of the conversion\n",
        "\n",
        "2. Call the function to convert the trip distance from miles to kilometers\n",
        "\n",
        "3. Fill in the blank to print the result of the conversion\n",
        "\n",
        "4. Calculate the round-trip in kilometers by doubling the result, and fill in the blank to print the resul"
      ],
      "metadata": {
        "id": "byvRo-UuTqBu"
      }
    },
    {
      "cell_type": "code",
      "source": [
        "# 1) Complete the function to return the result of the conversion\n",
        "def convert_distance(miles):\n",
        "\tkm = miles * 1.6  # approximately 1.6 km in 1 mile\n",
        "\treturn km\n",
        "\n",
        "my_trip_miles = 55\n",
        "\n",
        "# 2) Convert my_trip_miles to kilometers by calling the function above\n",
        "my_trip_km = convert_distance(55)\n",
        "\n",
        "# 3) Fill in the blank to print the result of the conversion\n",
        "print(\"The distance in kilometers is \" + str(my_trip_km))\n",
        "\n",
        "# 4) Calculate the round-trip in kilometers by doubling the result,\n",
        "#    and fill in the blank to print the result\n",
        "print(\"The round-trip in kilometers is \" + str((2*my_trip_km)))"
      ],
      "metadata": {
        "execution": {
          "iopub.status.busy": "2022-09-13T09:51:10.343701Z",
          "iopub.execute_input": "2022-09-13T09:51:10.344595Z",
          "iopub.status.idle": "2022-09-13T09:51:10.359378Z",
          "shell.execute_reply.started": "2022-09-13T09:51:10.344498Z",
          "shell.execute_reply": "2022-09-13T09:51:10.357946Z"
        },
        "trusted": true,
        "id": "hFdmnElSTqCC",
        "outputId": "8a34ebe2-6df6-47bd-9155-a27390701c0c",
        "colab": {
          "base_uri": "https://localhost:8080/"
        }
      },
      "execution_count": 16,
      "outputs": [
        {
          "output_type": "stream",
          "name": "stdout",
          "text": [
            "The distance in kilometers is 88.0\n",
            "The round-trip in kilometers is 176.0\n"
          ]
        }
      ]
    },
    {
      "cell_type": "markdown",
      "source": [
        "Question 2:\n",
        "This function compares two numbers and returns them in increasing order.\n",
        "\n",
        "1. Fill in the blanks, so the print statement displays the result of the function call in order.\n",
        "\n",
        "Hint: if a function returns multiple values, don't forget to store these values in multiple variables"
      ],
      "metadata": {
        "id": "sp7w3gdUTqCD"
      }
    },
    {
      "cell_type": "code",
      "source": [
        "# This function compares two numbers and returns them\n",
        "# in increasing order.\n",
        "def order_numbers(number1, number2):\n",
        "\tif number2 > number1:\n",
        "\t\treturn number1, number2\n",
        "\telse:\n",
        "\t\treturn number2, number1\n",
        "\n",
        "# 1) Fill in the blanks so the print statement displays the result\n",
        "#    of the function call\n",
        "smaller, bigger = order_numbers(100, 99)\n",
        "print(smaller, bigger)"
      ],
      "metadata": {
        "execution": {
          "iopub.status.busy": "2022-09-13T09:51:10.361143Z",
          "iopub.execute_input": "2022-09-13T09:51:10.361456Z",
          "iopub.status.idle": "2022-09-13T09:51:10.375442Z",
          "shell.execute_reply.started": "2022-09-13T09:51:10.361428Z",
          "shell.execute_reply": "2022-09-13T09:51:10.374082Z"
        },
        "trusted": true,
        "id": "03euypEuTqCE",
        "outputId": "dabe9815-e995-4d1b-ec7b-c0ee2fbf528d",
        "colab": {
          "base_uri": "https://localhost:8080/"
        }
      },
      "execution_count": 17,
      "outputs": [
        {
          "output_type": "stream",
          "name": "stdout",
          "text": [
            "99 100\n"
          ]
        }
      ]
    },
    {
      "cell_type": "markdown",
      "source": [
        "Question 4:\n",
        "Let's revisit our lucky_number function. We want to change it, so that instead of printing the message, it returns the message. This way, the calling line can print the message, or do something else with it if needed. Fill in the blanks to complete the code to make it work"
      ],
      "metadata": {
        "id": "l8PGKkBRTqCF"
      }
    },
    {
      "cell_type": "code",
      "source": [
        "def lucky_number(name):\n",
        "  number = len(name) * 9\n",
        "  message = \"Hello \" + name + \". Your lucky number is \" + str(number)\n",
        "  return message\n",
        "\n",
        "print(lucky_number(\"Kay\"))\n",
        "print(lucky_number(\"Cameron\"))"
      ],
      "metadata": {
        "execution": {
          "iopub.status.busy": "2022-09-13T09:51:10.376627Z",
          "iopub.execute_input": "2022-09-13T09:51:10.37765Z",
          "iopub.status.idle": "2022-09-13T09:51:10.395018Z",
          "shell.execute_reply.started": "2022-09-13T09:51:10.377596Z",
          "shell.execute_reply": "2022-09-13T09:51:10.392887Z"
        },
        "trusted": true,
        "id": "6zPW1JkRTqCF",
        "outputId": "680c2f47-034e-4a15-be3f-78cc19900eaf",
        "colab": {
          "base_uri": "https://localhost:8080/"
        }
      },
      "execution_count": 18,
      "outputs": [
        {
          "output_type": "stream",
          "name": "stdout",
          "text": [
            "Hello Kay. Your lucky number is 27\n",
            "Hello Cameron. Your lucky number is 63\n"
          ]
        }
      ]
    },
    {
      "cell_type": "markdown",
      "source": [
        "## Practice Quiz: Conditionals"
      ],
      "metadata": {
        "id": "-tZu6zWOTqCG"
      }
    },
    {
      "cell_type": "markdown",
      "source": [
        "Question 2:\n",
        "Complete the script by filling in the missing parts. The function receives a name, then returns a greeting based on whether or not that name is \"Taylor\""
      ],
      "metadata": {
        "id": "AjgUR87NTqCG"
      }
    },
    {
      "cell_type": "code",
      "source": [
        "def greeting(name):\n",
        "  if name == \"Taylor\":\n",
        "    return \"Welcome back Taylor!\"\n",
        "  else:\n",
        "    return \"Hello there, \" + name\n",
        "\n",
        "print(greeting(\"Taylor\"))\n",
        "print(greeting(\"John\"))"
      ],
      "metadata": {
        "execution": {
          "iopub.status.busy": "2022-09-13T09:51:10.396545Z",
          "iopub.execute_input": "2022-09-13T09:51:10.397213Z",
          "iopub.status.idle": "2022-09-13T09:51:10.409288Z",
          "shell.execute_reply.started": "2022-09-13T09:51:10.397172Z",
          "shell.execute_reply": "2022-09-13T09:51:10.408392Z"
        },
        "trusted": true,
        "id": "-4GinFFkTqCH",
        "outputId": "b2cd79aa-5439-4ebc-d748-dd0a043f3362",
        "colab": {
          "base_uri": "https://localhost:8080/"
        }
      },
      "execution_count": 19,
      "outputs": [
        {
          "output_type": "stream",
          "name": "stdout",
          "text": [
            "Welcome back Taylor!\n",
            "Hello there, John\n"
          ]
        }
      ]
    },
    {
      "cell_type": "markdown",
      "source": [
        "Question 3:\n",
        "What’s the output of this code if number equals 10?"
      ],
      "metadata": {
        "id": "Ejx-py5DTqCI"
      }
    },
    {
      "cell_type": "code",
      "source": [
        "number = 4 # you can change the number here\n",
        "if number > 11:\n",
        "  print(0)\n",
        "elif number != 10:\n",
        "  print(1)\n",
        "elif number >= 20 or number < 12:\n",
        "  print(2)\n",
        "else:\n",
        "  print(3)"
      ],
      "metadata": {
        "execution": {
          "iopub.status.busy": "2022-09-13T09:51:10.410441Z",
          "iopub.execute_input": "2022-09-13T09:51:10.411318Z",
          "iopub.status.idle": "2022-09-13T09:51:10.424278Z",
          "shell.execute_reply.started": "2022-09-13T09:51:10.411286Z",
          "shell.execute_reply": "2022-09-13T09:51:10.423495Z"
        },
        "trusted": true,
        "id": "w0bFfwG_TqCI",
        "outputId": "840e2c35-5c85-4a99-ff50-b90bae348377",
        "colab": {
          "base_uri": "https://localhost:8080/"
        }
      },
      "execution_count": 20,
      "outputs": [
        {
          "output_type": "stream",
          "name": "stdout",
          "text": [
            "1\n"
          ]
        }
      ]
    },
    {
      "cell_type": "markdown",
      "source": [
        "Question 4:\n",
        "Is \"A dog\" smaller or larger than \"A mouse\"? Is 9999+8888 smaller or larger than 100*100? Replace the plus sign in the following code to let Python check it for you and then answer. <br>\n",
        "`Answer: \"A dog\" is smaller than \"A mouse\" and 9999+8888 is larger than 100*100`"
      ],
      "metadata": {
        "id": "ckxwfnuFTqCJ"
      }
    },
    {
      "cell_type": "code",
      "source": [
        "print(\"A dog\" > \"A mouse\")\n",
        "print(9999+8888 > 100*100)"
      ],
      "metadata": {
        "execution": {
          "iopub.status.busy": "2022-09-13T09:51:10.425379Z",
          "iopub.execute_input": "2022-09-13T09:51:10.4258Z",
          "iopub.status.idle": "2022-09-13T09:51:10.438587Z",
          "shell.execute_reply.started": "2022-09-13T09:51:10.425775Z",
          "shell.execute_reply": "2022-09-13T09:51:10.437079Z"
        },
        "trusted": true,
        "id": "tjRkqHN-TqCK"
      },
      "execution_count": null,
      "outputs": []
    },
    {
      "cell_type": "markdown",
      "source": [
        "Question 5:\n",
        "If a filesystem has a block size of 4096 bytes, this means that a file comprised of only one byte will still use 4096 bytes of storage. A file made up of 4097 bytes will use 4096*2=8192 bytes of storage. Knowing this, can you fill in the gaps in the calculate_storage function below, which calculates the total number of bytes needed to store a file of a given size?"
      ],
      "metadata": {
        "id": "NoZTVFv3TqCK"
      }
    },
    {
      "cell_type": "code",
      "source": [
        "def calculate_storage(filesize):\n",
        "    block_size = 4096\n",
        "    # Use floor division to calculate how many blocks are fully occupied\n",
        "    full_blocks = filesize//block_size\n",
        "    # Use the modulo operator to check whether there's any remainder\n",
        "    partial_block_remainder = filesize%block_size\n",
        "    # Depending on whether there's a remainder or not, return\n",
        "    # the total number of bytes required to allocate enough blocks\n",
        "    # to store your data.\n",
        "    if partial_block_remainder > 0:\n",
        "        return (full_blocks +1) * block_size\n",
        "    return full_blocks*block_size\n",
        "\n",
        "print(calculate_storage(1))    # Should be 4096\n",
        "print(calculate_storage(4096)) # Should be 4096\n",
        "print(calculate_storage(4097)) # Should be 8192\n",
        "print(calculate_storage(6000)) # Should be 8192"
      ],
      "metadata": {
        "execution": {
          "iopub.status.busy": "2022-09-13T09:51:10.439704Z",
          "iopub.execute_input": "2022-09-13T09:51:10.440456Z",
          "iopub.status.idle": "2022-09-13T09:51:10.450578Z",
          "shell.execute_reply.started": "2022-09-13T09:51:10.440426Z",
          "shell.execute_reply": "2022-09-13T09:51:10.449783Z"
        },
        "trusted": true,
        "id": "Z64lBoDYTqCL"
      },
      "execution_count": null,
      "outputs": []
    },
    {
      "cell_type": "markdown",
      "source": [
        "## Module 2 Graded Assessment"
      ],
      "metadata": {
        "id": "dOLiq1lgTqCM"
      }
    },
    {
      "cell_type": "markdown",
      "source": [
        "Question 1:\n",
        "Complete the function by filling in the missing parts. The color_translator function receives the name of a color, then prints its hexadecimal value. Currently, it only supports the three additive primary colors (red, green, blue), so it returns \"unknown\" for all other colors"
      ],
      "metadata": {
        "id": "pOfsrQEpTqCM"
      }
    },
    {
      "cell_type": "code",
      "source": [
        "def color_translator(color):\n",
        "\tif color == \"red\":\n",
        "\t\thex_color = \"#ff0000\"\n",
        "\telif color == \"green\":\n",
        "\t\thex_color = \"#00ff00\"\n",
        "\telif color == \"blue\":\n",
        "\t\thex_color = \"#0000ff\"\n",
        "\telse:\n",
        "\t\thex_color = \"unknown\"\n",
        "\treturn hex_color\n",
        "\n",
        "print(color_translator(\"blue\")) # Should be #0000ff\n",
        "print(color_translator(\"yellow\")) # Should be unknown\n",
        "print(color_translator(\"red\")) # Should be #ff0000\n",
        "print(color_translator(\"black\")) # Should be unknown\n",
        "print(color_translator(\"green\")) # Should be #00ff00\n",
        "print(color_translator(\"\")) # Should be unknown"
      ],
      "metadata": {
        "execution": {
          "iopub.status.busy": "2022-09-13T09:51:10.451749Z",
          "iopub.execute_input": "2022-09-13T09:51:10.452202Z",
          "iopub.status.idle": "2022-09-13T09:51:10.468678Z",
          "shell.execute_reply.started": "2022-09-13T09:51:10.452175Z",
          "shell.execute_reply": "2022-09-13T09:51:10.467771Z"
        },
        "trusted": true,
        "id": "AMh3uC2bTqCN"
      },
      "execution_count": null,
      "outputs": []
    },
    {
      "cell_type": "markdown",
      "source": [
        "Question 4:\n",
        "Students in a class receive their grades as Pass/Fail. Scores of 60 or more (out of 100) mean that the grade is \"Pass\". For lower scores, the grade is \"Fail\". In addition, scores above 95 (not included) are graded as \"Top Score\". Fill in this function so that it returns the proper grade."
      ],
      "metadata": {
        "id": "usaLYVWjTqCN"
      }
    },
    {
      "cell_type": "code",
      "source": [
        "def exam_grade(score):\n",
        "\tif score > 95:\n",
        "\t\tgrade = \"Top Score\"\n",
        "\telif score >= 60:\n",
        "\t\tgrade = \"Pass\"\n",
        "\telse:\n",
        "\t\tgrade = \"Fail\"\n",
        "\treturn grade\n",
        "\n",
        "print(exam_grade(65)) # Should be Pass\n",
        "print(exam_grade(55)) # Should be Fail\n",
        "print(exam_grade(60)) # Should be Pass\n",
        "print(exam_grade(95)) # Should be Pass\n",
        "print(exam_grade(100)) # Should be Top Score\n",
        "print(exam_grade(0)) # Should be Fail"
      ],
      "metadata": {
        "execution": {
          "iopub.status.busy": "2022-09-13T09:51:10.469796Z",
          "iopub.execute_input": "2022-09-13T09:51:10.470557Z",
          "iopub.status.idle": "2022-09-13T09:51:10.487928Z",
          "shell.execute_reply.started": "2022-09-13T09:51:10.470526Z",
          "shell.execute_reply": "2022-09-13T09:51:10.486963Z"
        },
        "trusted": true,
        "id": "KsQzOB_pTqCO"
      },
      "execution_count": null,
      "outputs": []
    },
    {
      "cell_type": "markdown",
      "source": [
        "Question 6:\n",
        "Complete the body of the format_name function. This function receives the first_name and last_name parameters and then returns a properly formatted string.\n",
        "\n",
        "Specifically:\n",
        "\n",
        "If both the last_name and the first_name parameters are supplied, the function should return like so:"
      ],
      "metadata": {
        "id": "NlRcZA_rTqCP"
      }
    },
    {
      "cell_type": "code",
      "source": [
        "def format_name(first_name, last_name):\n",
        "\t# code goes here\n",
        "\tif len(first_name) and len(last_name) > 0:\n",
        "\t\tstring =  \"Name: \" + last_name + \",\" \" \" + first_name\n",
        "\telif len(first_name) == 0 and len(last_name) > 0:\n",
        "\t\tstring =  \"Name: \" + last_name\n",
        "\telif len(first_name) > 0 and len(last_name) == 0 :\n",
        "\t\tstring =  \"Name: \" + first_name\n",
        "\telse:\n",
        "\t\tstring = first_name\n",
        "\treturn string\n",
        "\n",
        "print(format_name(\"Ernest\", \"Hemingway\"))\n",
        "# Should return the string \"Name: Hemingway, Ernest\"\n",
        "\n",
        "print(format_name(\"\", \"Madonna\"))\n",
        "# Should return the string \"Name: Madonna\"\n",
        "\n",
        "print(format_name(\"Voltaire\", \"\"))\n",
        "# Should return the string \"Name: Voltaire\"\n",
        "\n",
        "print(format_name(\"\", \"\"))\n",
        "# Should return an empty string"
      ],
      "metadata": {
        "execution": {
          "iopub.status.busy": "2022-09-13T09:51:10.489165Z",
          "iopub.execute_input": "2022-09-13T09:51:10.489764Z",
          "iopub.status.idle": "2022-09-13T09:51:10.502324Z",
          "shell.execute_reply.started": "2022-09-13T09:51:10.489735Z",
          "shell.execute_reply": "2022-09-13T09:51:10.501217Z"
        },
        "trusted": true,
        "id": "2jJ2Lr8ETqCQ"
      },
      "execution_count": null,
      "outputs": []
    },
    {
      "cell_type": "markdown",
      "source": [
        "Question 7:\n",
        "The longest_word function is used to compare 3 words. It should return the word with the most number of characters (and the first in the list when they have the same length). Fill in the blank to make this happen."
      ],
      "metadata": {
        "id": "ZBt9BsBGTqCQ"
      }
    },
    {
      "cell_type": "code",
      "source": [
        "def longest_word(word1, word2, word3):\n",
        "\tif len(word1) >= len(word2) and len(word1) >= len(word3):\n",
        "\t\tword = word1\n",
        "\telif len(word2) >= len(word1) and len(word2) >= len(word3):\n",
        "\t\tword = word2\n",
        "\telse:\n",
        "\t\tword = word3\n",
        "\treturn(word)\n",
        "\n",
        "print(longest_word(\"chair\", \"couch\", \"table\"))\n",
        "print(longest_word(\"bed\", \"bath\", \"beyond\"))\n",
        "print(longest_word(\"laptop\", \"notebook\", \"desktop\"))"
      ],
      "metadata": {
        "execution": {
          "iopub.status.busy": "2022-09-13T09:51:10.503633Z",
          "iopub.execute_input": "2022-09-13T09:51:10.504801Z",
          "iopub.status.idle": "2022-09-13T09:51:10.516669Z",
          "shell.execute_reply.started": "2022-09-13T09:51:10.504768Z",
          "shell.execute_reply": "2022-09-13T09:51:10.514975Z"
        },
        "trusted": true,
        "id": "l0NTFwDMTqCR"
      },
      "execution_count": null,
      "outputs": []
    },
    {
      "cell_type": "markdown",
      "source": [
        "Question 8:\n",
        "What’s the output of this code?\n",
        "\n",
        "`Answer: ` <font color = 'blue'> 10 </font>"
      ],
      "metadata": {
        "id": "N86J6B3oTqCR"
      }
    },
    {
      "cell_type": "code",
      "source": [
        "def sum(x, y):\n",
        "\t\treturn(x+y)\n",
        "print(sum(sum(1,2), sum(3,4)))"
      ],
      "metadata": {
        "execution": {
          "iopub.status.busy": "2022-09-13T09:51:10.517861Z",
          "iopub.execute_input": "2022-09-13T09:51:10.519248Z",
          "iopub.status.idle": "2022-09-13T09:51:10.528563Z",
          "shell.execute_reply.started": "2022-09-13T09:51:10.519187Z",
          "shell.execute_reply": "2022-09-13T09:51:10.527156Z"
        },
        "trusted": true,
        "id": "AY6nEDpRTqCS"
      },
      "execution_count": null,
      "outputs": []
    },
    {
      "cell_type": "markdown",
      "source": [
        "Question 9: What's the value of this Python expression?"
      ],
      "metadata": {
        "id": "J9zcQsf1TqCT"
      }
    },
    {
      "cell_type": "markdown",
      "source": [
        "`Answer:` True"
      ],
      "metadata": {
        "id": "gVmMxadgTqCT"
      }
    },
    {
      "cell_type": "code",
      "source": [
        "((10 >= 5*2) and (10 <= 5*2))"
      ],
      "metadata": {
        "execution": {
          "iopub.status.busy": "2022-09-13T09:51:10.536349Z",
          "iopub.execute_input": "2022-09-13T09:51:10.536857Z",
          "iopub.status.idle": "2022-09-13T09:51:10.549849Z",
          "shell.execute_reply.started": "2022-09-13T09:51:10.536831Z",
          "shell.execute_reply": "2022-09-13T09:51:10.548489Z"
        },
        "trusted": true,
        "id": "XesonXyfTqCU"
      },
      "execution_count": null,
      "outputs": []
    },
    {
      "cell_type": "markdown",
      "source": [
        "Question 10:\n",
        "The fractional_part function divides the numerator by the denominator, and returns just the fractional part (a number between 0 and 1). Complete the body of the function so that it returns the right number.\n",
        "Note: Since division by 0 produces an error, if the denominator is 0, the function should return 0 instead of attempting the division."
      ],
      "metadata": {
        "id": "qYiqxlB2TqCU"
      }
    },
    {
      "cell_type": "code",
      "source": [
        "def fractional_part(numerator, denominator):\n",
        "\t# Operate with numerator and denominator to\n",
        "# keep just the fractional part of the quotient\n",
        "\ttry:\n",
        "\t\tdiv = numerator / denominator\n",
        "\t\treturn div % 1\n",
        "\texcept ZeroDivisionError:\n",
        "\t\treturn 0\n",
        "\n",
        "print(fractional_part(5, 5)) # Should be 0\n",
        "print(fractional_part(5, 4)) # Should be 0.25\n",
        "print(fractional_part(5, 3)) # Should be 0.66...\n",
        "print(fractional_part(5, 2)) # Should be 0.5\n",
        "print(fractional_part(5, 0)) # Should be 0\n",
        "print(fractional_part(0, 5)) # Should be 0"
      ],
      "metadata": {
        "execution": {
          "iopub.status.busy": "2022-09-13T09:51:10.55096Z",
          "iopub.execute_input": "2022-09-13T09:51:10.551672Z",
          "iopub.status.idle": "2022-09-13T09:51:10.563395Z",
          "shell.execute_reply.started": "2022-09-13T09:51:10.551641Z",
          "shell.execute_reply": "2022-09-13T09:51:10.56264Z"
        },
        "trusted": true,
        "id": "uLhBXA2_TqCV"
      },
      "execution_count": null,
      "outputs": []
    },
    {
      "cell_type": "markdown",
      "source": [
        "<h1 align= \"center\">WEEK THREE<h1>"
      ],
      "metadata": {
        "id": "t4jiwNC-TqCV"
      }
    },
    {
      "cell_type": "markdown",
      "source": [
        "## Practice Quiz: While loops"
      ],
      "metadata": {
        "id": "0mHdLvn4TqCW"
      }
    },
    {
      "cell_type": "markdown",
      "source": [
        "Fill in the blanks to make the print_prime_factors function print all the prime factors of a number. A prime factor is a number that is prime and divides another without a remainder."
      ],
      "metadata": {
        "id": "SUEO-H-YTqCW"
      }
    },
    {
      "cell_type": "code",
      "source": [
        "def print_prime_factors(number):\n",
        "  # Start with two, which is the first prime\n",
        "  factor = 2\n",
        "  # Keep going until the factor is larger than the number\n",
        "  while factor <= number:\n",
        "    # Check if factor is a divisor of number\n",
        "    if number % factor == 0:\n",
        "      # If it is, print it and divide the original number\n",
        "      print(factor)\n",
        "      number = number / factor\n",
        "    else:\n",
        "      # If it's not, increment the factor by one\n",
        "      factor +=1\n",
        "  return \"Done\"\n",
        "\n",
        "print_prime_factors(100)\n",
        "# Should print 2,2,5,5"
      ],
      "metadata": {
        "execution": {
          "iopub.status.busy": "2022-09-13T09:51:10.56448Z",
          "iopub.execute_input": "2022-09-13T09:51:10.564871Z",
          "iopub.status.idle": "2022-09-13T09:51:10.582678Z",
          "shell.execute_reply.started": "2022-09-13T09:51:10.564844Z",
          "shell.execute_reply": "2022-09-13T09:51:10.581555Z"
        },
        "trusted": true,
        "id": "fevDrrPpTqCX"
      },
      "execution_count": null,
      "outputs": []
    },
    {
      "cell_type": "markdown",
      "source": [
        "The following code can lead to an infinite loop. Fix the code so that it can finish successfully for all numbers."
      ],
      "metadata": {
        "id": "GcQQ7CLRTqCY"
      }
    },
    {
      "cell_type": "code",
      "source": [
        "def is_power_of_two(n):\n",
        "  # Check if the number can be divided by two without a remainder\n",
        "  if not n == 0:\n",
        "    while n % 2 == 0:\n",
        "      n = n / 2\n",
        "  # If after dividing by two the number is 1, it's a power of two\n",
        "  if n == 1:\n",
        "    return True\n",
        "  return False\n",
        "\n",
        "\n",
        "print(is_power_of_two(0)) # Should be False\n",
        "print(is_power_of_two(1)) # Should be True\n",
        "print(is_power_of_two(8)) # Should be True\n",
        "print(is_power_of_two(9)) # Should be False"
      ],
      "metadata": {
        "execution": {
          "iopub.status.busy": "2022-09-13T09:51:10.583924Z",
          "iopub.execute_input": "2022-09-13T09:51:10.584996Z",
          "iopub.status.idle": "2022-09-13T09:51:10.597827Z",
          "shell.execute_reply.started": "2022-09-13T09:51:10.584943Z",
          "shell.execute_reply": "2022-09-13T09:51:10.596485Z"
        },
        "trusted": true,
        "id": "LKrYJZz7TqCZ"
      },
      "execution_count": null,
      "outputs": []
    },
    {
      "cell_type": "markdown",
      "source": [
        "Fill in the empty function so that it returns the sum of all the divisors of a number, without including it. A divisor is a number that divides into another without a remainder"
      ],
      "metadata": {
        "id": "8T0Er3DoTqCa"
      }
    },
    {
      "cell_type": "code",
      "source": [
        "def sum_divisors(n):\n",
        "  sum = 0\n",
        "  # Return the sum of all divisors of n, not including n\n",
        "  divisors = 1\n",
        "  if not n == 0:\n",
        "    while divisors < n:\n",
        "      if n % divisors == 0:\n",
        "        sum += divisors\n",
        "        divisors += 1\n",
        "      else:\n",
        "        divisors += 1\n",
        "    return sum\n",
        "  return 0\n",
        "\n",
        "print(sum_divisors(0))\n",
        "# 0\n",
        "print(sum_divisors(3)) # Should sum of 1\n",
        "# 1\n",
        "print(sum_divisors(36)) # Should sum of 1+2+3+4+6+9+12+18\n",
        "# 55\n",
        "print(sum_divisors(102)) # Should be sum of 2+3+6+17+34+51\n",
        "# 114\n"
      ],
      "metadata": {
        "execution": {
          "iopub.status.busy": "2022-09-13T09:51:10.599559Z",
          "iopub.execute_input": "2022-09-13T09:51:10.600342Z",
          "iopub.status.idle": "2022-09-13T09:51:10.610537Z",
          "shell.execute_reply.started": "2022-09-13T09:51:10.600307Z",
          "shell.execute_reply": "2022-09-13T09:51:10.609256Z"
        },
        "trusted": true,
        "id": "LOW61DXGTqCb"
      },
      "execution_count": null,
      "outputs": []
    },
    {
      "cell_type": "markdown",
      "source": [
        "The multiplication_table function prints the results of a number passed to it multiplied by 1 through 5. An additional requirement is that the result is not to exceed 25, which is done with the break statement. Fill in the blanks to complete the function to satisfy these conditions."
      ],
      "metadata": {
        "id": "BjMOECRDTqCd"
      }
    },
    {
      "cell_type": "code",
      "source": [
        "def multiplication_table(number):\n",
        "\t# Initialize the starting point of the multiplication table\n",
        "\tmultiplier = 1\n",
        "\t# Only want to loop through 5\n",
        "\twhile multiplier <= 5:\n",
        "\t\tresult = multiplier * number\n",
        "\t\t# What is the additional condition to exit out of the loop?\n",
        "\t\tif result >= 26 :\n",
        "\t\t\tbreak\n",
        "\t\tprint(str(number) + \"x\" + str(multiplier) + \"=\" + str(result))\n",
        "\t\t# Increment the variable for the loop\n",
        "\t\tmultiplier += 1\n",
        "\n",
        "multiplication_table(3)\n",
        "# Should print: 3x1=3 3x2=6 3x3=9 3x4=12 3x5=15\n",
        "\n",
        "multiplication_table(5)\n",
        "# Should print: 5x1=5 5x2=10 5x3=15 5x4=20 5x5=25\n",
        "\n",
        "multiplication_table(8)\n",
        "# Should print: 8x1=8 8x2=16 8x3=24"
      ],
      "metadata": {
        "execution": {
          "iopub.status.busy": "2022-09-13T09:51:10.611657Z",
          "iopub.execute_input": "2022-09-13T09:51:10.612417Z",
          "iopub.status.idle": "2022-09-13T09:51:10.626423Z",
          "shell.execute_reply.started": "2022-09-13T09:51:10.612384Z",
          "shell.execute_reply": "2022-09-13T09:51:10.625121Z"
        },
        "trusted": true,
        "id": "N3wgjYsKTqCe"
      },
      "execution_count": null,
      "outputs": []
    },
    {
      "cell_type": "markdown",
      "source": [
        "## Practice Quiz: Foor loops"
      ],
      "metadata": {
        "id": "qguKer1HTqCe"
      }
    },
    {
      "cell_type": "markdown",
      "source": [
        "Question 2:\n",
        "Fill in the blanks to make the factorial function return the factorial of n. Then, print the first 10 factorials (from 0 to 9) with the corresponding number. Remember that the factorial of a number is defined as the product of an integer and all integers before it. For example, the factorial of five (5!) is equal to 1*2*3*4*5=120. Also recall that the factorial of zero (0!) is equal to 1"
      ],
      "metadata": {
        "id": "b-GZCj-iTqCe"
      }
    },
    {
      "cell_type": "code",
      "source": [
        "def factorial(n):\n",
        "    result = 1\n",
        "    for x in range(1,n+1):\n",
        "        result *=  x\n",
        "    return result\n",
        "\n",
        "for n in range(10):  ## This will only print the first 10 factorials as stated in the question\n",
        "    print(n, factorial(n))"
      ],
      "metadata": {
        "execution": {
          "iopub.status.busy": "2022-09-13T09:51:10.627623Z",
          "iopub.execute_input": "2022-09-13T09:51:10.62911Z",
          "iopub.status.idle": "2022-09-13T09:51:10.643352Z",
          "shell.execute_reply.started": "2022-09-13T09:51:10.628994Z",
          "shell.execute_reply": "2022-09-13T09:51:10.641897Z"
        },
        "trusted": true,
        "id": "5d1BcWYuTqCf"
      },
      "execution_count": null,
      "outputs": []
    },
    {
      "cell_type": "markdown",
      "source": [
        "`Still on qeuston 2.` Enter a number to calculate its factorial:"
      ],
      "metadata": {
        "id": "FI_LOrtCTqCg"
      }
    },
    {
      "cell_type": "code",
      "source": [
        "def factorial(n):\n",
        "    result = 1\n",
        "    for x in range(1,n+1):\n",
        "        result *=  x\n",
        "    return result\n",
        "number = 6 # delete this line\n",
        "for n in range (number): #replace (number) with (int(input())+1)\n",
        "    print(n, factorial(n))"
      ],
      "metadata": {
        "execution": {
          "iopub.status.busy": "2022-09-13T09:51:10.644622Z",
          "iopub.execute_input": "2022-09-13T09:51:10.64582Z",
          "iopub.status.idle": "2022-09-13T09:51:10.658749Z",
          "shell.execute_reply.started": "2022-09-13T09:51:10.645767Z",
          "shell.execute_reply": "2022-09-13T09:51:10.657779Z"
        },
        "trusted": true,
        "id": "WdYZuW7MTqCg"
      },
      "execution_count": null,
      "outputs": []
    },
    {
      "cell_type": "markdown",
      "source": [
        "Question 3:\n",
        "Write a script that prints the first 10 cube numbers (x**3), starting with x=1 and ending with x=10."
      ],
      "metadata": {
        "id": "QC_4yJFNTqCg"
      }
    },
    {
      "cell_type": "code",
      "source": [
        "for x in range(1,11):\n",
        "  print(x**3)"
      ],
      "metadata": {
        "execution": {
          "iopub.status.busy": "2022-09-13T09:51:10.659851Z",
          "iopub.execute_input": "2022-09-13T09:51:10.660211Z",
          "iopub.status.idle": "2022-09-13T09:51:10.675778Z",
          "shell.execute_reply.started": "2022-09-13T09:51:10.660177Z",
          "shell.execute_reply": "2022-09-13T09:51:10.674737Z"
        },
        "trusted": true,
        "id": "aX794zDBTqCi"
      },
      "execution_count": null,
      "outputs": []
    },
    {
      "cell_type": "markdown",
      "source": [
        "Question 4:\n",
        "Write a script that prints the multiples of 7 between 0 and 100. Print one multiple per line and avoid printing any numbers that aren't multiples of 7. Remember that 0 is also a multiple of 7."
      ],
      "metadata": {
        "id": "tZV_BSoQTqCi"
      }
    },
    {
      "cell_type": "code",
      "source": [
        "for i in range(0, 101):\n",
        "    if i % 7 == 0:\n",
        "        print(i)"
      ],
      "metadata": {
        "execution": {
          "iopub.status.busy": "2022-09-13T09:51:10.67825Z",
          "iopub.execute_input": "2022-09-13T09:51:10.67873Z",
          "iopub.status.idle": "2022-09-13T09:51:10.69049Z",
          "shell.execute_reply.started": "2022-09-13T09:51:10.678697Z",
          "shell.execute_reply": "2022-09-13T09:51:10.68899Z"
        },
        "trusted": true,
        "id": "kydOAx3BTqCi"
      },
      "execution_count": null,
      "outputs": []
    },
    {
      "cell_type": "markdown",
      "source": [
        "Question 5:\n",
        "The retry function tries to execute an operation that might fail, it retries the operation for a number of attempts.  Currently the code will keep executing the function even if it succeeds. Fill in the blank so the code stops trying after the operation succeeded."
      ],
      "metadata": {
        "id": "eII7T0rhTqCj"
      }
    },
    {
      "cell_type": "code",
      "source": [
        "'''\n",
        "def retry(operation, attempts):\n",
        "  for n in range(attempts):\n",
        "    if operation():\n",
        "      print(\"Attempt \" + str(n) + \" succeeded\")\n",
        "      break\n",
        "    else:\n",
        "      print(\"Attempt \" + str(n) + \" failed\")\n",
        "\n",
        "retry(create_user, 5)\n",
        "retry(stop_service, 5)\n",
        "'''"
      ],
      "metadata": {
        "execution": {
          "iopub.status.busy": "2022-09-13T09:51:10.691771Z",
          "iopub.execute_input": "2022-09-13T09:51:10.692298Z",
          "iopub.status.idle": "2022-09-13T09:51:10.703927Z",
          "shell.execute_reply.started": "2022-09-13T09:51:10.692266Z",
          "shell.execute_reply": "2022-09-13T09:51:10.702717Z"
        },
        "trusted": true,
        "id": "KEiVpRxJTqCj"
      },
      "execution_count": null,
      "outputs": []
    },
    {
      "cell_type": "markdown",
      "source": [
        "### N.B. The parameters to retry() are passed by coursera. So I can't run it in the cell"
      ],
      "metadata": {
        "id": "7Jtc-NQ5TqCk"
      }
    },
    {
      "cell_type": "markdown",
      "source": [
        "## Practice Quiz: Recursion"
      ],
      "metadata": {
        "id": "YfV2P6qbTqCl"
      }
    },
    {
      "cell_type": "markdown",
      "source": [
        "Question 3:\n",
        "Fill in the blanks to make the is_power_of function return whether the number is a power of the given base. Note: base is assumed to be a positive number. Tip: for functions that return a boolean value, you can return the result of a comparison."
      ],
      "metadata": {
        "id": "mnUQk9iCTqCl"
      }
    },
    {
      "cell_type": "code",
      "source": [
        "def is_power_of(number, base):\n",
        "  # Base case: when number is smaller than base.\n",
        "  if number < base:\n",
        "    if number == 1:\n",
        "      return True\n",
        "    return False\n",
        "    # If number is equal to 1, it's a power (base**0).\n",
        "    #return True\n",
        "\n",
        "    # Recursive case: keep dividing number by base.\n",
        "  return is_power_of(number/base, base)\n",
        "\n",
        "print(is_power_of(8,2)) # Should be True\n",
        "print(is_power_of(64,4)) # Should be True\n",
        "print(is_power_of(70,10)) # Should be False"
      ],
      "metadata": {
        "execution": {
          "iopub.status.busy": "2022-09-13T09:51:10.705316Z",
          "iopub.execute_input": "2022-09-13T09:51:10.705819Z",
          "iopub.status.idle": "2022-09-13T09:51:10.718712Z",
          "shell.execute_reply.started": "2022-09-13T09:51:10.705792Z",
          "shell.execute_reply": "2022-09-13T09:51:10.717973Z"
        },
        "trusted": true,
        "id": "LuB3GTLbTqCm"
      },
      "execution_count": null,
      "outputs": []
    },
    {
      "cell_type": "markdown",
      "source": [
        "Question 4:\n",
        "The count_users function recursively counts the amount of users that belong to a group in the company system, by going through each of the members of a group and if one of them is a group, recursively calling the function and counting the members. But it has a bug! Can you spot the problem and fix it?\n",
        "`Read the comment before the two codes in the cell below`"
      ],
      "metadata": {
        "id": "7d96B5d0TqCm"
      }
    },
    {
      "cell_type": "code",
      "source": [
        "## This cannot be ran here bcus the list the names \"get_members and is_group\" are not define here.\n",
        "'''\n",
        "def count_users(group):\n",
        "  count = 0\n",
        "  for member in get_members(group):\n",
        "    count += 1\n",
        "    if is_group(member):\n",
        "      count += count_users(member) - 1\n",
        "\n",
        "  return count\n",
        "\n",
        "print(count_users(\"sales\")) # Should be 3\n",
        "print(count_users(\"engineering\")) # Should be 8\n",
        "print(count_users(\"everyone\")) # Should be 18\n",
        "'''"
      ],
      "metadata": {
        "execution": {
          "iopub.status.busy": "2022-09-13T09:51:10.71993Z",
          "iopub.execute_input": "2022-09-13T09:51:10.720259Z",
          "iopub.status.idle": "2022-09-13T09:51:10.735077Z",
          "shell.execute_reply.started": "2022-09-13T09:51:10.720231Z",
          "shell.execute_reply": "2022-09-13T09:51:10.733704Z"
        },
        "trusted": true,
        "id": "D6sVytsgTqCn"
      },
      "execution_count": null,
      "outputs": []
    },
    {
      "cell_type": "markdown",
      "source": [
        "### N.B. The parameters to count_users() are passed by coursera. So I can't run it in the cell"
      ],
      "metadata": {
        "id": "r9HgIOlGTqCn"
      }
    },
    {
      "cell_type": "markdown",
      "source": [
        "Question 5:\n",
        "Implement the sum_positive_numbers function, as a recursive function that returns the sum of all positive numbers between the number n received and 1. For example, when n is 3 it should return 1+2+3=6, and when n is 5 it should return 1+2+3+4+5=15"
      ],
      "metadata": {
        "id": "CyDerhZJTqCo"
      }
    },
    {
      "cell_type": "code",
      "source": [
        "def sum_positive_numbers(n):\n",
        "  for i in range(n):\n",
        "    if n == 1:\n",
        "      return 1\n",
        "    else:\n",
        "      return n + sum_positive_numbers(n-1)\n",
        "\n",
        "\n",
        "  return 0\n",
        "\n",
        "print(sum_positive_numbers(3)) # Should be 6\n",
        "print(sum_positive_numbers(5)) # Should be 15\n",
        "print(sum_positive_numbers(6))"
      ],
      "metadata": {
        "execution": {
          "iopub.status.busy": "2022-09-13T09:51:10.736619Z",
          "iopub.execute_input": "2022-09-13T09:51:10.737168Z",
          "iopub.status.idle": "2022-09-13T09:51:10.755372Z",
          "shell.execute_reply.started": "2022-09-13T09:51:10.737136Z",
          "shell.execute_reply": "2022-09-13T09:51:10.754371Z"
        },
        "trusted": true,
        "id": "zULpue8DTqCo"
      },
      "execution_count": null,
      "outputs": []
    },
    {
      "cell_type": "markdown",
      "source": [
        "# Module 3 Graded Assessment"
      ],
      "metadata": {
        "id": "If19LnNDTqCq"
      }
    },
    {
      "cell_type": "markdown",
      "source": [
        "Question 1:\n",
        "Fill in the blanks of this code to print out the numbers 1 through 7"
      ],
      "metadata": {
        "id": "tTG2Cw38TqCq"
      }
    },
    {
      "cell_type": "code",
      "source": [
        "number = 1\n",
        "while number <= 7:\n",
        "\tprint(number, end=\" \")\n",
        "\tnumber += 1"
      ],
      "metadata": {
        "execution": {
          "iopub.status.busy": "2022-09-13T09:51:10.756508Z",
          "iopub.execute_input": "2022-09-13T09:51:10.756933Z",
          "iopub.status.idle": "2022-09-13T09:51:10.768704Z",
          "shell.execute_reply.started": "2022-09-13T09:51:10.756904Z",
          "shell.execute_reply": "2022-09-13T09:51:10.767928Z"
        },
        "trusted": true,
        "id": "ISM3T2V_TqCq"
      },
      "execution_count": null,
      "outputs": []
    },
    {
      "cell_type": "markdown",
      "source": [
        "Question 2:\n",
        "The show_letters function should print out each letter of a word on a separate line. Fill in the blanks to make that happen."
      ],
      "metadata": {
        "id": "zmIpIk-ETqCr"
      }
    },
    {
      "cell_type": "code",
      "source": [
        "def show_letters(word):\n",
        "\tfor i in word:\n",
        "\t\tprint(i)\n",
        "\n",
        "show_letters(\"Hello\")\n",
        "# Should print one line per letter"
      ],
      "metadata": {
        "execution": {
          "iopub.status.busy": "2022-09-13T09:51:10.769828Z",
          "iopub.execute_input": "2022-09-13T09:51:10.770309Z",
          "iopub.status.idle": "2022-09-13T09:51:10.782276Z",
          "shell.execute_reply.started": "2022-09-13T09:51:10.770283Z",
          "shell.execute_reply": "2022-09-13T09:51:10.781448Z"
        },
        "trusted": true,
        "id": "7sMxQ73fTqCr"
      },
      "execution_count": null,
      "outputs": []
    },
    {
      "cell_type": "markdown",
      "source": [
        "Question 3:\n",
        "Complete the function digits(n) that returns how many digits the number has. For example: 25 has 2 digits and 144 has 3 digits. Tip: you can figure out the digits of a number by dividing it by 10 once per digit until there are no digits left."
      ],
      "metadata": {
        "id": "4BKWAal8TqCs"
      }
    },
    {
      "cell_type": "code",
      "source": [
        "def digits(n):\n",
        "\tcount = 0\n",
        "\tif n == 0:\n",
        "\t  return 1\n",
        "\twhile n >= 1:\n",
        "\t\tcount += 1\n",
        "\t\tn = n/10\n",
        "\treturn count\n",
        "\n",
        "print(digits(25))   # Should print 2\n",
        "print(digits(144))  # Should print 3\n",
        "print(digits(1000)) # Should print 4\n",
        "print(digits(0))    # Should print 1"
      ],
      "metadata": {
        "execution": {
          "iopub.status.busy": "2022-09-13T09:51:10.783443Z",
          "iopub.execute_input": "2022-09-13T09:51:10.783869Z",
          "iopub.status.idle": "2022-09-13T09:51:10.795105Z",
          "shell.execute_reply.started": "2022-09-13T09:51:10.783842Z",
          "shell.execute_reply": "2022-09-13T09:51:10.793533Z"
        },
        "trusted": true,
        "id": "tS7kpVgyTqCs"
      },
      "execution_count": null,
      "outputs": []
    },
    {
      "cell_type": "markdown",
      "source": [
        "Question 4:\n",
        "This function prints out a multiplication table (where each number is the result of multiplying the first number of its row by the number at the top of its column). Fill in the blanks so that calling multiplication_table(1, 3) will print out:"
      ],
      "metadata": {
        "id": "rE4NX1CDTqCt"
      }
    },
    {
      "cell_type": "code",
      "source": [
        "def multiplication_table(start, stop):\n",
        "\tfor x in range(start, stop+1):\n",
        "\t\tfor y in range(start, stop+1):\n",
        "\t\t\tprint(str(x*y), end=\" \")\n",
        "\t\tprint()\n",
        "\n",
        "multiplication_table(1, 3)\n",
        "# Should print the multiplication table shown above"
      ],
      "metadata": {
        "execution": {
          "iopub.status.busy": "2022-09-13T09:51:10.796908Z",
          "iopub.execute_input": "2022-09-13T09:51:10.797774Z",
          "iopub.status.idle": "2022-09-13T09:51:10.805813Z",
          "shell.execute_reply.started": "2022-09-13T09:51:10.797726Z",
          "shell.execute_reply": "2022-09-13T09:51:10.804914Z"
        },
        "trusted": true,
        "id": "ftZTd8yETqCt"
      },
      "execution_count": null,
      "outputs": []
    },
    {
      "cell_type": "markdown",
      "source": [
        "Question 5:\n",
        "The counter function counts down from start to stop when start is bigger than stop, and counts up from start to stop otherwise. Fill in the blanks to make this work correctly"
      ],
      "metadata": {
        "id": "WUHAME-DTqCt"
      }
    },
    {
      "cell_type": "code",
      "source": [
        "def counter(start, stop):\n",
        "    x = start\n",
        "    if start > stop:\n",
        "        return_string = \"Counting down: \"\n",
        "        while x >= stop:\n",
        "            return_string += str(x)\n",
        "            x -= 1\n",
        "            if x >= stop:\n",
        "                return_string += \",\"\n",
        "        return return_string\n",
        "    else:\n",
        "        return_string = \"Counting up: \"\n",
        "        while x <= stop:\n",
        "            return_string += str(x)\n",
        "            x += 1\n",
        "            if x <= stop:\n",
        "                return_string += \",\"\n",
        "        return return_string\n",
        "\n",
        "print(counter(1, 10)) # Should be \"Counting up: 1,2,3,4,5,6,7,8,9,10\"\n",
        "print(counter(2, 1)) # Should be \"Counting down: 2,1\"\n",
        "print(counter(5, 5)) # Should be \"Counting up: 5\""
      ],
      "metadata": {
        "execution": {
          "iopub.status.busy": "2022-09-13T09:51:10.806833Z",
          "iopub.execute_input": "2022-09-13T09:51:10.80826Z",
          "iopub.status.idle": "2022-09-13T09:51:10.819414Z",
          "shell.execute_reply.started": "2022-09-13T09:51:10.80821Z",
          "shell.execute_reply": "2022-09-13T09:51:10.818233Z"
        },
        "trusted": true,
        "id": "eN3NYTyuTqCu"
      },
      "execution_count": null,
      "outputs": []
    },
    {
      "cell_type": "markdown",
      "source": [
        "Question 6:\n",
        "The even_numbers function returns a space-separated string of all positive numbers that are divisible by 2, up to and including the maximum that's passed into the function. For example, even_numbers(6) returns “2 4 6”. Fill in the blank to make this work."
      ],
      "metadata": {
        "id": "arEbcf1QTqCu"
      }
    },
    {
      "cell_type": "code",
      "source": [
        "def even_numbers(maximum):\n",
        "    return_string = \"\"\n",
        "    for x in range(1, maximum+1):\n",
        "        if x % 2 ==0:\n",
        "            return_string += str(x) + \" \"\n",
        "    return return_string.strip()\n",
        "\n",
        "print(even_numbers(6))  # Should be 2 4 6\n",
        "print(even_numbers(10)) # Should be 2 4 6 8 10\n",
        "print(even_numbers(1))  # No numbers displayed\n",
        "print(even_numbers(3))  # Should be 2\n",
        "print(even_numbers(0))  # No numbers displayed"
      ],
      "metadata": {
        "execution": {
          "iopub.status.busy": "2022-09-13T09:51:10.820602Z",
          "iopub.execute_input": "2022-09-13T09:51:10.821181Z",
          "iopub.status.idle": "2022-09-13T09:51:10.83519Z",
          "shell.execute_reply.started": "2022-09-13T09:51:10.821153Z",
          "shell.execute_reply": "2022-09-13T09:51:10.833961Z"
        },
        "trusted": true,
        "id": "a3j-sl2yTqCu"
      },
      "execution_count": null,
      "outputs": []
    },
    {
      "cell_type": "markdown",
      "source": [
        "Questiion 7:\n",
        "The following code raises an error when executed. What's the reason for the error. <br>\n",
        "`Answer: Failure to initialize variables`"
      ],
      "metadata": {
        "id": "wI7QB9KcTqCv"
      }
    },
    {
      "cell_type": "code",
      "source": [
        "def decade_counter(year):\n",
        "\twhile year < 50:\n",
        "\t\tyear += 10\n",
        "\treturn year\n",
        "decade_counter(45)"
      ],
      "metadata": {
        "execution": {
          "iopub.status.busy": "2022-09-13T09:51:10.83644Z",
          "iopub.execute_input": "2022-09-13T09:51:10.836861Z",
          "iopub.status.idle": "2022-09-13T09:51:10.849216Z",
          "shell.execute_reply.started": "2022-09-13T09:51:10.836808Z",
          "shell.execute_reply": "2022-09-13T09:51:10.847901Z"
        },
        "trusted": true,
        "id": "EH_jlM9sTqCv"
      },
      "execution_count": null,
      "outputs": []
    },
    {
      "cell_type": "markdown",
      "source": [
        "Question 8:\n",
        "What is the value of x at the end of the following code? <br>\n",
        "`Answer: 7`"
      ],
      "metadata": {
        "id": "p4-YhxTjTqCv"
      }
    },
    {
      "cell_type": "code",
      "source": [
        "for x in range(1, 10, 3):\n",
        "    print(x)"
      ],
      "metadata": {
        "execution": {
          "iopub.status.busy": "2022-09-13T09:51:10.850464Z",
          "iopub.execute_input": "2022-09-13T09:51:10.851016Z",
          "iopub.status.idle": "2022-09-13T09:51:10.861092Z",
          "shell.execute_reply.started": "2022-09-13T09:51:10.850987Z",
          "shell.execute_reply": "2022-09-13T09:51:10.859586Z"
        },
        "trusted": true,
        "id": "r2uo61R8TqCw"
      },
      "execution_count": null,
      "outputs": []
    },
    {
      "cell_type": "markdown",
      "source": [
        "Question 9:\n",
        "What is the value of y at the end of the following code? <br>\n",
        "`Answer: 8`"
      ],
      "metadata": {
        "id": "DVp3ZMCPTqCw"
      }
    },
    {
      "cell_type": "code",
      "source": [
        "for x in range(10): # 9 will be the last number for x (range(10) = (10 -1)).\n",
        "    for y in range(x): # 8 will be the last number for y (range(x) == range(9) == (9 -1))\n",
        "        print(y)"
      ],
      "metadata": {
        "execution": {
          "iopub.status.busy": "2022-09-13T09:51:10.862148Z",
          "iopub.execute_input": "2022-09-13T09:51:10.863281Z",
          "iopub.status.idle": "2022-09-13T09:51:10.870894Z",
          "shell.execute_reply.started": "2022-09-13T09:51:10.863249Z",
          "shell.execute_reply": "2022-09-13T09:51:10.870216Z"
        },
        "trusted": true,
        "id": "Unj9LRYOTqCw"
      },
      "execution_count": null,
      "outputs": []
    },
    {
      "cell_type": "markdown",
      "source": [
        "Question 10:\n",
        "How does this function need to be called to print yes, no, and maybe as possible options to vote for? <br>\n",
        "`Answer: votes(['yes', 'no', 'maybe'])` OR   ` votes([\"yes\", \"no\", \"maybe\"])`"
      ],
      "metadata": {
        "id": "4iyrwwLhTqCx"
      }
    },
    {
      "cell_type": "code",
      "source": [
        "def votes(params):\n",
        "    for vote in params:\n",
        "        print(\"Possible option:\" + vote)\n",
        "\n",
        "votes(['yes', 'no', 'maybe'])"
      ],
      "metadata": {
        "execution": {
          "iopub.status.busy": "2022-09-13T09:51:10.872301Z",
          "iopub.execute_input": "2022-09-13T09:51:10.872561Z",
          "iopub.status.idle": "2022-09-13T09:51:10.883814Z",
          "shell.execute_reply.started": "2022-09-13T09:51:10.872537Z",
          "shell.execute_reply": "2022-09-13T09:51:10.883073Z"
        },
        "trusted": true,
        "id": "uS9nT08LTqCx"
      },
      "execution_count": null,
      "outputs": []
    },
    {
      "cell_type": "markdown",
      "source": [
        "<h1 align= \"center\">WEEK FOUR<h1>"
      ],
      "metadata": {
        "id": "1BzBi3RqTqCx"
      }
    },
    {
      "cell_type": "markdown",
      "source": [
        "## Practice Quiz: Strings"
      ],
      "metadata": {
        "id": "C1QFfe-vTqCy"
      }
    },
    {
      "cell_type": "markdown",
      "source": [
        "Question 1:\n",
        "The is_palindrome function checks if a string is a palindrome. A palindrome is a string that can be equally read from left to right or right to left, omitting blank spaces, and ignoring capitalization. Examples of palindromes are words like kayak and radar, and phrases like \"Never Odd or Even\". Fill in the blanks in this function to return True if the passed string is a palindrome, False if not."
      ],
      "metadata": {
        "id": "M74Yu2dJTqCy"
      }
    },
    {
      "cell_type": "code",
      "source": [
        "def is_palindrome(input_string):\n",
        "\timport string\n",
        "\t# We'll create two strings, to compare them\n",
        "\tnew_string = \"\"\n",
        "\treverse_string = \"\"\n",
        "\t# Traverse through each letter of the input string\n",
        "\tfor letter in input_string:\n",
        "\t\t# Add any non-blank letters to the\n",
        "\t\t# end of one string, and to the front\n",
        "\t\t# of the other string.\n",
        "\t\tif letter != \" \":\n",
        "\t\t\tnew_string += letter\n",
        "\t\t\treverse_string = letter + reverse_string\n",
        "\t\telse:\n",
        "\t\t\tnew_string = new_string\n",
        "\t\t\treverse_string = reverse_string\n",
        "\t# Compare the strings\n",
        "\tif new_string.lower() == reverse_string.lower():\n",
        "\t\treturn True\n",
        "\treturn False\n",
        "\n",
        "print(is_palindrome(\"Never Odd or Even\")) # Should be True\n",
        "print(is_palindrome(\"abc\")) # Should be False\n",
        "print(is_palindrome(\"kayak\")) # Should be True"
      ],
      "metadata": {
        "execution": {
          "iopub.status.busy": "2022-09-13T09:51:10.885079Z",
          "iopub.execute_input": "2022-09-13T09:51:10.885399Z",
          "iopub.status.idle": "2022-09-13T09:51:10.898667Z",
          "shell.execute_reply.started": "2022-09-13T09:51:10.885372Z",
          "shell.execute_reply": "2022-09-13T09:51:10.89713Z"
        },
        "trusted": true,
        "id": "Fl7hDz-mTqCy"
      },
      "execution_count": null,
      "outputs": []
    },
    {
      "cell_type": "markdown",
      "source": [
        "Question 2:\n",
        "Using the format method, fill in the gaps in the convert_distance function so that it returns the phrase \"X miles equals Y km\", with Y having only 1 decimal place. For example, convert_distance(12) should return \"12 miles equals 19.2 km\"."
      ],
      "metadata": {
        "id": "G9qgEyqMTqCz"
      }
    },
    {
      "cell_type": "code",
      "source": [
        "def convert_distance(miles):\n",
        "\tkm = miles * 1.6\n",
        "\tresult = \"{} miles equals {:.1f} km\".format(miles, km)\n",
        "\treturn result\n",
        "\n",
        "print(convert_distance(12)) # Should be: 12 miles equals 19.2 km\n",
        "print(convert_distance(5.5)) # Should be: 5.5 miles equals 8.8 km\n",
        "print(convert_distance(11)) # Should be: 11 miles equals 17.6 km"
      ],
      "metadata": {
        "execution": {
          "iopub.status.busy": "2022-09-13T09:51:10.899937Z",
          "iopub.execute_input": "2022-09-13T09:51:10.901007Z",
          "iopub.status.idle": "2022-09-13T09:51:10.922254Z",
          "shell.execute_reply.started": "2022-09-13T09:51:10.900972Z",
          "shell.execute_reply": "2022-09-13T09:51:10.920497Z"
        },
        "trusted": true,
        "id": "48HRvwGATqC0"
      },
      "execution_count": null,
      "outputs": []
    },
    {
      "cell_type": "markdown",
      "source": [
        "Question 3:\n",
        "If we have a string variable named Weather = \"Rainfall\", which of the following will print the substring or all characters before the \"f\"?"
      ],
      "metadata": {
        "id": "ecenXA6GTqC1"
      }
    },
    {
      "cell_type": "code",
      "source": [
        "Weather = \"Rainfall\"\n",
        "print(Weather[:4])"
      ],
      "metadata": {
        "execution": {
          "iopub.status.busy": "2022-09-13T09:51:10.923925Z",
          "iopub.execute_input": "2022-09-13T09:51:10.924371Z",
          "iopub.status.idle": "2022-09-13T09:51:10.938282Z",
          "shell.execute_reply.started": "2022-09-13T09:51:10.924337Z",
          "shell.execute_reply": "2022-09-13T09:51:10.937188Z"
        },
        "trusted": true,
        "id": "Vn96TWFJTqC1"
      },
      "execution_count": null,
      "outputs": []
    },
    {
      "cell_type": "markdown",
      "source": [
        "Question 4:\n",
        "Fill in the gaps in the nametag function so that it uses the format method to return first_name and the first initial of last_name followed by a period. For example, nametag(\"Jane\", \"Smith\") should return \"Jane S.\""
      ],
      "metadata": {
        "id": "HmfTpmsWTqC2"
      }
    },
    {
      "cell_type": "code",
      "source": [
        "def nametag(first_name, last_name):\n",
        "\treturn(\"{} {}.\".format(first_name, last_name[0]))\n",
        "\n",
        "print(nametag(\"Jane\", \"Smith\"))\n",
        "# Should display \"Jane S.\"\n",
        "print(nametag(\"Francesco\", \"Rinaldi\"))\n",
        "# Should display \"Francesco R.\"\n",
        "print(nametag(\"Jean-Luc\", \"Grand-Pierre\"))\n",
        "# Should display \"Jean-Luc G.\""
      ],
      "metadata": {
        "execution": {
          "iopub.status.busy": "2022-09-13T09:51:10.939251Z",
          "iopub.execute_input": "2022-09-13T09:51:10.939597Z",
          "iopub.status.idle": "2022-09-13T09:51:10.950644Z",
          "shell.execute_reply.started": "2022-09-13T09:51:10.939562Z",
          "shell.execute_reply": "2022-09-13T09:51:10.949458Z"
        },
        "trusted": true,
        "id": "D2RtPx5gTqC2"
      },
      "execution_count": null,
      "outputs": []
    },
    {
      "cell_type": "markdown",
      "source": [
        "Question 5:\n",
        "The replace_ending function replaces the old string in a sentence with the new string, but only if the sentence ends with the old string. If there is more than one occurrence of the old string in the sentence, only the one at the end is replaced, not all of them. For example, replace_ending(\"abcabc\", \"abc\", \"xyz\") should return abcxyz, not xyzxyz or xyzabc. The string comparison is case-sensitive, so replace_ending(\"abcabc\", \"ABC\", \"xyz\") should return abcabc (no changes made)."
      ],
      "metadata": {
        "id": "skljzUKmTqC3"
      }
    },
    {
      "cell_type": "code",
      "source": [
        "def replace_ending(sentence, old, new):\n",
        "\t# Check if the old string is at the end of the sentence\n",
        "\tif sentence.endswith(old):\n",
        "\t\t# Using i as the slicing index, combine the part\n",
        "\t\t# of the sentence up to the matched string at the\n",
        "\t\t# end with the new string\n",
        "\n",
        "\t\ti = len(sentence) - len(old)\n",
        "\t\tnew_sentence = sentence[:i] + new\n",
        "\t\treturn new_sentence\n",
        "\n",
        "\t# Return the original sentence if there is no match\n",
        "\treturn sentence\n",
        "\n",
        "print(replace_ending(\"It's raining cats and cats\", \"cats\", \"dogs\"))\n",
        "# Should display \"It's raining cats and dogs\"\n",
        "print(replace_ending(\"She sells seashells by the seashore\", \"seashells\", \"donuts\"))\n",
        "# Should display \"She sells seashells by the seashore\"\n",
        "print(replace_ending(\"The weather is nice in May\", \"may\", \"april\"))\n",
        "# Should display \"The weather is nice in May\"\n",
        "print(replace_ending(\"The weather is nice in May\", \"May\", \"April\"))\n",
        "# Should display \"The weather is nice in April\""
      ],
      "metadata": {
        "execution": {
          "iopub.status.busy": "2022-09-13T09:51:10.951725Z",
          "iopub.execute_input": "2022-09-13T09:51:10.952069Z",
          "iopub.status.idle": "2022-09-13T09:51:10.967598Z",
          "shell.execute_reply.started": "2022-09-13T09:51:10.952016Z",
          "shell.execute_reply": "2022-09-13T09:51:10.96626Z"
        },
        "trusted": true,
        "id": "zQFrhPV4TqC3"
      },
      "execution_count": null,
      "outputs": []
    },
    {
      "cell_type": "markdown",
      "source": [
        "## Practice Quiz: Lists"
      ],
      "metadata": {
        "id": "oDrMz4DlTqC3"
      }
    },
    {
      "cell_type": "markdown",
      "source": [
        "Question 1:\n",
        "Given a list of filenames, we want to rename all the files with extension hpp to the extension h. To do this, we would like to generate a new list called newfilenames, consisting of the new filenames. Fill in the blanks in the code using any of the methods you’ve learned thus far, like a for loop or a list comprehension."
      ],
      "metadata": {
        "id": "mGRroaacTqC4"
      }
    },
    {
      "cell_type": "code",
      "source": [
        "filenames = [\"program.c\", \"stdio.hpp\", \"sample.hpp\", \"a.out\", \"math.hpp\", \"hpp.out\"]\n",
        "# Generate newfilenames as a list containing the new filenames\n",
        "# using as many lines of code as your chosen method requires.\n",
        "newfilenames = []\n",
        "for files in filenames:\n",
        "    if files.endswith(\".hpp\"):\n",
        "        index = files.index(\".hpp\")\n",
        "        newfilename = files[:index] + \".h\"\n",
        "    else:\n",
        "        newfilename = files\n",
        "    newfilenames.append(newfilename)\n",
        "print(newfilenames)\n",
        "# Should be [\"program.c\", \"stdio.h\", \"sample.h\", \"a.out\", \"math.h\", \"hpp.out\"]"
      ],
      "metadata": {
        "execution": {
          "iopub.status.busy": "2022-09-13T09:51:10.96863Z",
          "iopub.execute_input": "2022-09-13T09:51:10.968967Z",
          "iopub.status.idle": "2022-09-13T09:51:10.987566Z",
          "shell.execute_reply.started": "2022-09-13T09:51:10.968937Z",
          "shell.execute_reply": "2022-09-13T09:51:10.98641Z"
        },
        "trusted": true,
        "id": "6lW_i1KCTqC4"
      },
      "execution_count": null,
      "outputs": []
    },
    {
      "cell_type": "markdown",
      "source": [
        "Question 2:\n",
        "Let's create a function that turns text into pig latin: a simple text transformation that modifies each word moving the first character to the end and appending \"ay\" to the end. For example, python ends up as ythonpay. <a href= https>check my pig latin code</a>"
      ],
      "metadata": {
        "id": "Nvkm0eM9TqC5"
      }
    },
    {
      "cell_type": "code",
      "source": [
        "def pig_latin(text):\n",
        "  say = \"\"\n",
        "  # Separate the text into words\n",
        "  words = text.split()\n",
        "  for word in words:\n",
        "    # Create the pig latin word and add it to the list\n",
        "    say += word[1:] + word[0] + \"ay \"\n",
        "    # Turn the list back into a phrase\n",
        "  return say\n",
        "\n",
        "print(pig_latin(\"hello how are you\")) # Should be \"ellohay owhay reaay ouyay\"\n",
        "print(pig_latin(\"programming in python is fun\")) # Should be \"rogrammingpay niay ythonpay siay unfay\""
      ],
      "metadata": {
        "execution": {
          "iopub.status.busy": "2022-09-13T09:51:10.988476Z",
          "iopub.execute_input": "2022-09-13T09:51:10.98879Z",
          "iopub.status.idle": "2022-09-13T09:51:10.99961Z",
          "shell.execute_reply.started": "2022-09-13T09:51:10.988744Z",
          "shell.execute_reply": "2022-09-13T09:51:10.99834Z"
        },
        "trusted": true,
        "id": "r33CbB78TqC5"
      },
      "execution_count": null,
      "outputs": []
    },
    {
      "cell_type": "markdown",
      "source": [
        "Question 3:\n",
        "The permissions of a file in a Linux system are split into three sets of three permissions: read, write, and execute for the owner, group, and others. Each of the three values can be expressed as an octal number summing each permission, with 4 corresponding to read, 2 to write, and 1 to execute. Or it can be written with a string using the letters r, w, and x or - when the permission is not granted.\n",
        "For example:\n",
        "640 is read/write for the owner, read for the group, and no permissions for the others; converted to a string, it would be: \"rw-r-----\"\n",
        "755 is read/write/execute for the owner, and read/execute for group and others; converted to a string, it would be: \"rwxr-xr-x\"\n",
        "Fill in the blanks to make the code convert a permission in octal format into a string format."
      ],
      "metadata": {
        "id": "wfqq-elNTqC6"
      }
    },
    {
      "cell_type": "code",
      "source": [
        "def octal_to_string(octal):\n",
        "    result = \"\"\n",
        "    value_letters = [(4,\"r\"),(2,\"w\"),(1,\"x\")]\n",
        "    # Iterate over each of the digits in octal\n",
        "    for number in [int(n) for n in str(octal)]:\n",
        "        # Check for each of the permissions values\n",
        "        for value, letter in value_letters:\n",
        "            if number >= value:\n",
        "                result += letter\n",
        "                number -= value\n",
        "            else:\n",
        "                result += \"-\"\n",
        "    return result\n",
        "\n",
        "print(octal_to_string(755)) # Should be rwxr-xr-x\n",
        "print(octal_to_string(644)) # Should be rw-r--r--\n",
        "print(octal_to_string(750)) # Should be rwxr-x---\n",
        "print(octal_to_string(600)) # Should be rw-------"
      ],
      "metadata": {
        "execution": {
          "iopub.status.busy": "2022-09-13T09:51:11.001175Z",
          "iopub.execute_input": "2022-09-13T09:51:11.001485Z",
          "iopub.status.idle": "2022-09-13T09:51:11.015591Z",
          "shell.execute_reply.started": "2022-09-13T09:51:11.001456Z",
          "shell.execute_reply": "2022-09-13T09:51:11.014092Z"
        },
        "trusted": true,
        "id": "if727Ce5TqC6"
      },
      "execution_count": null,
      "outputs": []
    },
    {
      "cell_type": "markdown",
      "source": [
        "## `Question 4 is not a coding exercise`"
      ],
      "metadata": {
        "id": "9VDOQg_6TqC7"
      }
    },
    {
      "cell_type": "markdown",
      "source": [
        "Question 5:\n",
        "The group_list function accepts a group name and a list of members, and returns a string with the format: group_name: member1, member2, … For example, group_list(\"g\", [\"a\",\"b\",\"c\"]) returns \"g: a, b, c\". Fill in the gaps in this function to do that"
      ],
      "metadata": {
        "id": "vXUn9fCkTqC7"
      }
    },
    {
      "cell_type": "code",
      "source": [
        "def group_list(group, users):\n",
        "  members = group + \": \" + \", \".join(users)\n",
        "\n",
        "  return members\n",
        "\n",
        "print(group_list(\"Marketing\", [\"Mike\", \"Karen\", \"Jake\", \"Tasha\"])) # Should be \"Marketing: Mike, Karen, Jake, Tasha\"\n",
        "print(group_list(\"Engineering\", [\"Kim\", \"Jay\", \"Tom\"])) # Should be \"Engineering: Kim, Jay, Tom\"\n",
        "print(group_list(\"Users\", \"\")) # Should be \"Users:\""
      ],
      "metadata": {
        "execution": {
          "iopub.status.busy": "2022-09-13T09:51:11.017446Z",
          "iopub.execute_input": "2022-09-13T09:51:11.018058Z",
          "iopub.status.idle": "2022-09-13T09:51:11.031852Z",
          "shell.execute_reply.started": "2022-09-13T09:51:11.01799Z",
          "shell.execute_reply": "2022-09-13T09:51:11.030652Z"
        },
        "trusted": true,
        "id": "YT9DUhjyTqC8"
      },
      "execution_count": null,
      "outputs": []
    },
    {
      "cell_type": "code",
      "source": [
        "def group_list(group, users):\n",
        "  members = group + \": \" + \", \".join(users)\n",
        "  return members\n",
        "\n",
        "print(group_list(\"Marketing\", [\"Mike\", \"Karen\", \"Jake\", \"Tasha\"])) # Should be \"Marketing: Mike, Karen, Jake, Tasha\"\n",
        "print(group_list(\"Engineering\", [\"Kim\", \"Jay\", \"Tom\"])) # Should be \"Engineering: Kim, Jay, Tom\"\n",
        "print(group_list(\"Users\", \"\")) # Should be \"Users:\""
      ],
      "metadata": {
        "execution": {
          "iopub.status.busy": "2022-09-13T09:51:11.032781Z",
          "iopub.execute_input": "2022-09-13T09:51:11.033117Z",
          "iopub.status.idle": "2022-09-13T09:51:11.04465Z",
          "shell.execute_reply.started": "2022-09-13T09:51:11.033089Z",
          "shell.execute_reply": "2022-09-13T09:51:11.043545Z"
        },
        "trusted": true,
        "id": "l3uwwOvRTqC9"
      },
      "execution_count": null,
      "outputs": []
    },
    {
      "cell_type": "markdown",
      "source": [
        "Question 6:\n",
        "The guest_list function reads in a list of tuples with the name, age, and profession of each party guest, and prints the sentence \"Guest is X years old and works as __.\" for each one. For example, guest_list(('Ken', 30, \"Chef\"), (\"Pat\", 35, 'Lawyer'), ('Amanda', 25, \"Engineer\")) should print out: Ken is 30 years old and works as Chef. Pat is 35 years old and works as Lawyer. Amanda is 25 years old and works as Engineer. Fill in the gaps in this function to do that."
      ],
      "metadata": {
        "id": "iFYGxCO3TqC9"
      }
    },
    {
      "cell_type": "code",
      "source": [
        "def guest_list(guests):\n",
        "\tfor name, age, work in guests:\n",
        "\t\tprint(\"{} is {} years old and works as {}\".format(name, age, work))\n",
        "\n",
        "guest_list([('Ken', 30, \"Chef\"), (\"Pat\", 35, 'Lawyer'), ('Amanda', 25, \"Engineer\")])\n",
        "\n",
        "#Click Run to submit code\n",
        "\"\"\"\n",
        "Output should match:\n",
        "Ken is 30 years old and works as Chef\n",
        "Pat is 35 years old and works as Lawyer\n",
        "Amanda is 25 years old and works as Engineer\n",
        "\"\"\""
      ],
      "metadata": {
        "execution": {
          "iopub.status.busy": "2022-09-13T09:51:11.046209Z",
          "iopub.execute_input": "2022-09-13T09:51:11.046588Z",
          "iopub.status.idle": "2022-09-13T09:51:11.059868Z",
          "shell.execute_reply.started": "2022-09-13T09:51:11.046556Z",
          "shell.execute_reply": "2022-09-13T09:51:11.058893Z"
        },
        "trusted": true,
        "id": "3hsXTRvzTqC9"
      },
      "execution_count": null,
      "outputs": []
    },
    {
      "cell_type": "markdown",
      "source": [
        "## Practice Quiz: Dictionaries"
      ],
      "metadata": {
        "id": "B0Bw_Y4-TqC-"
      }
    },
    {
      "cell_type": "markdown",
      "source": [
        "Question 1:\n",
        "The email_list function receives a dictionary, which contains domain names as keys, and a list of users as values. Fill in the blanks to generate a list that contains complete email addresses (e.g. diana.prince@gmail.com)."
      ],
      "metadata": {
        "id": "pdE8TqigTqC_"
      }
    },
    {
      "cell_type": "code",
      "source": [
        "def email_list(domains):\n",
        "\temails = []\n",
        "\tfor domain, users in domains.items():\n",
        "\t  for user in users:\n",
        "\t    emails.append(user+\"@\"+domain)\n",
        "\treturn(emails)\n",
        "\n",
        "print(email_list({\"gmail.com\": [\"clark.kent\", \"diana.prince\", \"peter.parker\"], \"yahoo.com\": [\"barbara.gordon\", \"jean.grey\"], \"hotmail.com\": [\"bruce.wayne\"]}))"
      ],
      "metadata": {
        "execution": {
          "iopub.status.busy": "2022-09-13T09:51:11.061124Z",
          "iopub.execute_input": "2022-09-13T09:51:11.061991Z",
          "iopub.status.idle": "2022-09-13T09:51:11.074465Z",
          "shell.execute_reply.started": "2022-09-13T09:51:11.061958Z",
          "shell.execute_reply": "2022-09-13T09:51:11.073174Z"
        },
        "trusted": true,
        "id": "aUGO3iLsTqC_"
      },
      "execution_count": null,
      "outputs": []
    },
    {
      "cell_type": "markdown",
      "source": [
        "Question 2:\n",
        "The groups_per_user function receives a dictionary, which contains group names with the list of users. Users can belong to multiple groups. Fill in the blanks to return a dictionary with the users as keys and a list of their groups as values."
      ],
      "metadata": {
        "id": "qQ8sapelTqDA"
      }
    },
    {
      "cell_type": "code",
      "source": [
        "def groups_per_user(group_dictionary):\n",
        "\tuser_groups = {}\n",
        "\t# Go through group_dictionary\n",
        "\tfor group, users in group_dictionary.items():\n",
        "\t\t# Now go through the users in the group\n",
        "\n",
        "\t\tfor user in users:\n",
        "\t\t\tif user not in user_groups:\n",
        "\t\t\t\tuser_groups[user] = []\n",
        "\t\t\tuser_groups[user].append(group)\n",
        "\t\t\t# Now add the group to the the list of\n",
        "# groups for this user, creating the entry\n",
        "# in the dictionary if necessary\n",
        "\n",
        "\treturn(user_groups)\n",
        "\n",
        "print(groups_per_user({\"local\": [\"admin\", \"userA\"],\n",
        "\t\t\"public\":  [\"admin\", \"userB\"],\n",
        "\t\t\"administrator\": [\"admin\"] }))"
      ],
      "metadata": {
        "execution": {
          "iopub.status.busy": "2022-09-13T09:51:11.075604Z",
          "iopub.execute_input": "2022-09-13T09:51:11.076277Z",
          "iopub.status.idle": "2022-09-13T09:51:11.092925Z",
          "shell.execute_reply.started": "2022-09-13T09:51:11.076237Z",
          "shell.execute_reply": "2022-09-13T09:51:11.09195Z"
        },
        "trusted": true,
        "id": "Pm4_dcfyTqDB"
      },
      "execution_count": null,
      "outputs": []
    },
    {
      "cell_type": "markdown",
      "source": [
        "Question 3:\n",
        "The dict.update method updates one dictionary with the items coming from the other dictionary, so that existing entries are replaced and new entries are added. What is the content of the dictionary “wardrobe“ at the end of the following code? <br>\n",
        "`Answer:` {'shirt': ['red', 'blue', 'white'], 'jeans': ['white'], 'scarf': ['yellow'], 'socks': ['black', 'brown']}"
      ],
      "metadata": {
        "id": "5IxKt5WLTqDC"
      }
    },
    {
      "cell_type": "code",
      "source": [
        "wardrobe = {'shirt': ['red', 'blue', 'white'], 'jeans': ['blue', 'black']}\n",
        "new_items = {'jeans': ['white'], 'scarf': ['yellow'], 'socks': ['black', 'brown']}\n",
        "updated_wordrope = wardrobe.update(new_items)\n",
        "wardrobe"
      ],
      "metadata": {
        "execution": {
          "iopub.status.busy": "2022-09-13T09:51:11.094257Z",
          "iopub.execute_input": "2022-09-13T09:51:11.095275Z",
          "iopub.status.idle": "2022-09-13T09:51:11.107544Z",
          "shell.execute_reply.started": "2022-09-13T09:51:11.095236Z",
          "shell.execute_reply": "2022-09-13T09:51:11.106752Z"
        },
        "trusted": true,
        "id": "rJdDWiOnTqDD"
      },
      "execution_count": null,
      "outputs": []
    },
    {
      "cell_type": "markdown",
      "source": [
        "## `Question 4 is not a coding exercise`"
      ],
      "metadata": {
        "id": "GBeg2s1zTqDQ"
      }
    },
    {
      "cell_type": "markdown",
      "source": [
        "Question 5:\n",
        "The add_prices function returns the total price of all of the groceries in the  dictionary. Fill in the blanks to complete this function."
      ],
      "metadata": {
        "id": "FXJzzyA3TqDR"
      }
    },
    {
      "cell_type": "code",
      "source": [
        "def add_prices(basket):\n",
        "\t# Initialize the variable that will be used for the calculation\n",
        "\ttotal = 0\n",
        "\t# Iterate through the dictionary items\n",
        "\tfor item, price in basket.items():\n",
        "\t\t# Add each price to the total calculation\n",
        "\t\t# Hint: how do you access the values of\n",
        "\t\t# dictionary items?\n",
        "\t\ttotal += price\n",
        "\t# Limit the return value to 2 decimal places\n",
        "\treturn round(total, 2)\n",
        "\n",
        "groceries = {\"bananas\": 1.56, \"apples\": 2.50, \"oranges\": 0.99, \"bread\": 4.59,\n",
        "\t\"coffee\": 6.99, \"milk\": 3.39, \"eggs\": 2.98, \"cheese\": 5.44}\n",
        "\n",
        "print(add_prices(groceries)) # Should print 28.44\n"
      ],
      "metadata": {
        "execution": {
          "iopub.status.busy": "2022-09-13T09:51:11.1088Z",
          "iopub.execute_input": "2022-09-13T09:51:11.109294Z",
          "iopub.status.idle": "2022-09-13T09:51:11.120969Z",
          "shell.execute_reply.started": "2022-09-13T09:51:11.109264Z",
          "shell.execute_reply": "2022-09-13T09:51:11.119933Z"
        },
        "trusted": true,
        "id": "2CCDGw8iTqDR"
      },
      "execution_count": null,
      "outputs": []
    },
    {
      "cell_type": "markdown",
      "source": [
        "## Module 4 Graded Assessment"
      ],
      "metadata": {
        "id": "IiYPE7tNTqDS"
      }
    },
    {
      "cell_type": "markdown",
      "source": [
        "Question 1:\n",
        "The format_address function separates out parts of the address string into new strings: house_number and street_name, and returns: \"house number X on street named Y\". The format of the input string is: numeric house number, followed by the street name which may contain numbers, but never by themselves, and could be several words long. For example, \"123 Main Street\", \"1001 1st Ave\", or \"55 North Center Drive\". Fill in the gaps to complete this function."
      ],
      "metadata": {
        "id": "rD3OGZHATqDS"
      }
    },
    {
      "cell_type": "code",
      "source": [
        "def format_address(address_string):\n",
        "  # Declare variables\n",
        "\n",
        "  # Separate the address string into parts\n",
        "\n",
        "  # Traverse through the address parts\n",
        "\n",
        "    # Determine if the address part is the\n",
        "    # house number or part of the street name\n",
        "\n",
        "  # Does anything else need to be done\n",
        "  # before returning the result?\n",
        "\n",
        "  # Return the formatted string\n",
        "    address = address_string.split()[1]\n",
        "\n",
        "    address = address_string.split(' ', 1)\n",
        "    house_number = address[0]\n",
        "    street_name = address[1]\n",
        "    return \"house number {} on street named {}\".format(house_number, street_name)\n",
        "\n",
        "print(format_address(\"123 Main Street\"))\n",
        "# Should print: \"house number 123 on street named Main Street\"\n",
        "\n",
        "print(format_address(\"1001 1st Ave\"))\n",
        "# Should print: \"house number 1001 on street named 1st Ave\"\n",
        "\n",
        "print(format_address(\"55 North Center Drive\"))\n",
        "# Should print \"house number 55 on street named North Center Drive\"\n"
      ],
      "metadata": {
        "execution": {
          "iopub.status.busy": "2022-09-13T09:51:11.122945Z",
          "iopub.execute_input": "2022-09-13T09:51:11.124076Z",
          "iopub.status.idle": "2022-09-13T09:51:11.134149Z",
          "shell.execute_reply.started": "2022-09-13T09:51:11.124007Z",
          "shell.execute_reply": "2022-09-13T09:51:11.133215Z"
        },
        "trusted": true,
        "id": "caB2Qi6oTqDT"
      },
      "execution_count": null,
      "outputs": []
    },
    {
      "cell_type": "markdown",
      "source": [
        "Question 2:\n",
        "The highlight_word function changes the given word in a sentence to its upper-case version. For example, highlight_word(\"Have a nice day\", \"nice\") returns \"Have a NICE day\". Can you write this function in just one line?"
      ],
      "metadata": {
        "id": "X9rLgRifTqDW"
      }
    },
    {
      "cell_type": "code",
      "source": [
        "def highlight_word(sentence, word):\n",
        "\treturn sentence.replace(word, word.upper())\n",
        "\n",
        "print(highlight_word(\"Have a nice day\", \"nice\"))\n",
        "print(highlight_word(\"Shhh, don't be so loud!\", \"loud\"))\n",
        "print(highlight_word(\"Automating with Python is fun\", \"fun\"))\n"
      ],
      "metadata": {
        "execution": {
          "iopub.status.busy": "2022-09-13T09:51:11.135325Z",
          "iopub.execute_input": "2022-09-13T09:51:11.136607Z",
          "iopub.status.idle": "2022-09-13T09:51:11.152965Z",
          "shell.execute_reply.started": "2022-09-13T09:51:11.136569Z",
          "shell.execute_reply": "2022-09-13T09:51:11.151864Z"
        },
        "trusted": true,
        "id": "ayfrsb1rTqDW"
      },
      "execution_count": null,
      "outputs": []
    },
    {
      "cell_type": "markdown",
      "source": [
        "Question 3:\n",
        "A professor with two assistants, Jamie and Drew, wants an attendance list of the students, in the order that they arrived in the classroom. Drew was the first one to note which students arrived, and then Jamie took over. After the class, they each entered their lists into the computer and emailed them to the professor, who needs to combine them into one, in the order of each student's arrival. Jamie emailed a follow-up, saying that her list is in reverse order. Complete the steps to combine them into one list as follows: the contents of Drew's list, followed by Jamie's list in reverse order, to get an accurate list of the students as they arrived."
      ],
      "metadata": {
        "id": "UAiUdfwjTqDX"
      }
    },
    {
      "cell_type": "code",
      "source": [
        "def combine_lists(list1, list2):\n",
        "  # Generate a new list containing the elements of list2\n",
        "\n",
        "  new_list = list2 + list1[::-1]\n",
        "  # Followed by the elements of list1 in reverse order\n",
        "\n",
        "  return new_list\n",
        "\n",
        "\n",
        "\n",
        "Jamies_list = [\"Alice\", \"Cindy\", \"Bobby\", \"Jan\", \"Peter\"]\n",
        "Drews_list = [\"Mike\", \"Carol\", \"Greg\", \"Marcia\"]\n",
        "\n",
        "print(combine_lists(Jamies_list, Drews_list))\n"
      ],
      "metadata": {
        "execution": {
          "iopub.status.busy": "2022-09-13T09:51:11.156347Z",
          "iopub.execute_input": "2022-09-13T09:51:11.15708Z",
          "iopub.status.idle": "2022-09-13T09:51:11.164567Z",
          "shell.execute_reply.started": "2022-09-13T09:51:11.157019Z",
          "shell.execute_reply": "2022-09-13T09:51:11.163559Z"
        },
        "trusted": true,
        "id": "qSASs8jzTqDX"
      },
      "execution_count": null,
      "outputs": []
    },
    {
      "cell_type": "markdown",
      "source": [
        "Question 4:\n",
        "Use a list comprehension to create a list of squared numbers (n*n). The function receives the variables start and end, and returns a list of squares of consecutive numbers between start and end inclusively.\n",
        "For example, squares(2, 3) should return [4, 9]."
      ],
      "metadata": {
        "id": "AF31WW7nTqDY"
      }
    },
    {
      "cell_type": "code",
      "source": [
        "def squares(start, end):\n",
        "\treturn [x*x for x in range(start, end+1)]\n",
        "\n",
        "print(squares(2, 3)) # Should be [4, 9]\n",
        "print(squares(1, 5)) # Should be [1, 4, 9, 16, 25]\n",
        "print(squares(0, 10)) # Should be [0, 1, 4, 9, 16, 25, 36, 49, 64, 81, 100]"
      ],
      "metadata": {
        "execution": {
          "iopub.status.busy": "2022-09-13T09:51:11.165984Z",
          "iopub.execute_input": "2022-09-13T09:51:11.166393Z",
          "iopub.status.idle": "2022-09-13T09:51:11.179401Z",
          "shell.execute_reply.started": "2022-09-13T09:51:11.166356Z",
          "shell.execute_reply": "2022-09-13T09:51:11.178076Z"
        },
        "trusted": true,
        "id": "ty16p8TCTqDY"
      },
      "execution_count": null,
      "outputs": []
    },
    {
      "cell_type": "markdown",
      "source": [
        "Question 5:\n",
        "Complete the code to iterate through the keys and values of the car_prices dictionary, printing out some information about each one."
      ],
      "metadata": {
        "id": "cL2_FkOUTqDZ"
      }
    },
    {
      "cell_type": "code",
      "source": [
        "def car_listing(car_prices):\n",
        "  result = \"\"\n",
        "  for car, price in car_prices.items():\n",
        "    result += \"{} costs {} dollars\".format(car, price) + \"\\n\"\n",
        "  return result\n",
        "\n",
        "print(car_listing({\"Kia Soul\":19000, \"Lamborghini Diablo\":55000, \"Ford Fiesta\":13000, \"Toyota Prius\":24000}))"
      ],
      "metadata": {
        "execution": {
          "iopub.status.busy": "2022-09-13T09:51:11.180897Z",
          "iopub.execute_input": "2022-09-13T09:51:11.181241Z",
          "iopub.status.idle": "2022-09-13T09:51:11.194268Z",
          "shell.execute_reply.started": "2022-09-13T09:51:11.181212Z",
          "shell.execute_reply": "2022-09-13T09:51:11.193004Z"
        },
        "trusted": true,
        "id": "_DrZipwOTqDa"
      },
      "execution_count": null,
      "outputs": []
    },
    {
      "cell_type": "markdown",
      "source": [
        "Question 6:\n",
        "Taylor and Rory are hosting a party. They sent out invitations, and each one collected responses into dictionaries, with names of their friends and how many guests each friend is bringing. Each dictionary is a partial list, but Rory's list has more current information about the number of guests. Fill in the blanks to combine both dictionaries into one, with each friend listed only once, and the number of guests from Rory's dictionary taking precedence, if a name is included in both dictionaries. Then print the resulting dictionary."
      ],
      "metadata": {
        "id": "MyitHJd3TqDa"
      }
    },
    {
      "cell_type": "code",
      "source": [
        "def combine_guests(guests1, guests2):\n",
        "  # Combine both dictionaries into one, with each key listed\n",
        "  guests2.update(guests1)\n",
        "  # only once, and the value from guests1 taking precedence\n",
        "  return guests2\n",
        "Rorys_guests = { \"Adam\":2, \"Brenda\":3, \"David\":1, \"Jose\":3, \"Charlotte\":2, \"Terry\":1, \"Robert\":4}\n",
        "Taylors_guests = { \"David\":4, \"Nancy\":1, \"Robert\":2, \"Adam\":1, \"Samantha\":3, \"Chris\":5}\n",
        "\n",
        "print(combine_guests(Rorys_guests, Taylors_guests))\n"
      ],
      "metadata": {
        "execution": {
          "iopub.status.busy": "2022-09-13T09:51:11.196261Z",
          "iopub.execute_input": "2022-09-13T09:51:11.197413Z",
          "iopub.status.idle": "2022-09-13T09:51:11.209269Z",
          "shell.execute_reply.started": "2022-09-13T09:51:11.19737Z",
          "shell.execute_reply": "2022-09-13T09:51:11.207948Z"
        },
        "trusted": true,
        "id": "EeZbRQfNTqDb"
      },
      "execution_count": null,
      "outputs": []
    },
    {
      "cell_type": "markdown",
      "source": [
        "Question 7:\n",
        "Use a dictionary to count the frequency of letters in the input string. Only letters should be counted, not blank spaces, numbers, or punctuation. Upper case should be considered the same as lower case. For example, count_letters(\"This is a sentence.\") should return {'t': 2, 'h': 1, 'i': 2, 's': 3, 'a': 1, 'e': 3, 'n': 2, 'c': 1}."
      ],
      "metadata": {
        "id": "WaqtWdH_TqDb"
      }
    },
    {
      "cell_type": "code",
      "source": [
        "def count_letters(text):\n",
        "  import string\n",
        "  result = {}\n",
        "  # Go through each letter in the text\n",
        "  for letter in text:\n",
        "\n",
        "    # Check if the letter needs to be counted or not\n",
        "    if letter in string.ascii_letters:\n",
        "      letter = letter.lower()\n",
        "      if letter not in result:\n",
        "        result[letter] = 0\n",
        "    # Add or increment the value in the dictionary\n",
        "      result[letter] += 1\n",
        "  return result\n",
        "\n",
        "print(count_letters(\"AaBbCc\"))\n",
        "# Should be {'a': 2, 'b': 2, 'c': 2}\n",
        "\n",
        "print(count_letters(\"Math is fun! 2+2=4\"))\n",
        "# Should be {'m': 1, 'a': 1, 't': 1, 'h': 1, 'i': 1, 's': 1, 'f': 1, 'u': 1, 'n': 1}\n",
        "\n",
        "print(count_letters(\"This is a sentence.\"))\n",
        "# Should be {'t': 2, 'h': 1, 'i': 2, 's': 3, 'a': 1, 'e': 3, 'n': 2, 'c': 1}"
      ],
      "metadata": {
        "execution": {
          "iopub.status.busy": "2022-09-13T09:51:11.210318Z",
          "iopub.execute_input": "2022-09-13T09:51:11.211434Z",
          "iopub.status.idle": "2022-09-13T09:51:11.225098Z",
          "shell.execute_reply.started": "2022-09-13T09:51:11.211376Z",
          "shell.execute_reply": "2022-09-13T09:51:11.223534Z"
        },
        "trusted": true,
        "id": "_ucY7sp5TqDc"
      },
      "execution_count": null,
      "outputs": []
    },
    {
      "cell_type": "markdown",
      "source": [
        "Question 8:\n",
        "What do the following commands return when animal = \"Hippopotamus\"? <br>\n",
        "`Answer:` pop, t, us"
      ],
      "metadata": {
        "id": "vGOj6XNPTqDd"
      }
    },
    {
      "cell_type": "code",
      "source": [
        "animal = \"Hippopotamus\"\n",
        "print(animal[3:6])\n",
        "print(animal[-5])\n",
        "print(animal[10:])\n"
      ],
      "metadata": {
        "execution": {
          "iopub.status.busy": "2022-09-13T09:51:11.226633Z",
          "iopub.execute_input": "2022-09-13T09:51:11.227082Z",
          "iopub.status.idle": "2022-09-13T09:51:11.236733Z",
          "shell.execute_reply.started": "2022-09-13T09:51:11.226987Z",
          "shell.execute_reply": "2022-09-13T09:51:11.235672Z"
        },
        "trusted": true,
        "id": "493CNodhTqDg"
      },
      "execution_count": null,
      "outputs": []
    },
    {
      "cell_type": "markdown",
      "source": [
        "Question 9:\n",
        "What does the list \"colors\" contain after these commands are executed? <br>\n",
        "`Answer:` ['red', 'white', 'yellow', 'blue']"
      ],
      "metadata": {
        "id": "SWsFSLl2TqDh"
      }
    },
    {
      "cell_type": "code",
      "source": [
        "colors = [\"red\", \"white\", \"blue\"]\n",
        "colors.insert(2, \"yellow\")\n",
        "colors"
      ],
      "metadata": {
        "execution": {
          "iopub.status.busy": "2022-09-13T09:51:11.237679Z",
          "iopub.execute_input": "2022-09-13T09:51:11.237971Z",
          "iopub.status.idle": "2022-09-13T09:51:11.248833Z",
          "shell.execute_reply.started": "2022-09-13T09:51:11.237944Z",
          "shell.execute_reply": "2022-09-13T09:51:11.247512Z"
        },
        "trusted": true,
        "id": "oVdY169YTqDh"
      },
      "execution_count": null,
      "outputs": []
    },
    {
      "cell_type": "markdown",
      "source": [
        "Question 10:\n",
        "What do the following commands return?\n",
        "\n",
        "`Answer:` ['router', 'localhost', 'google']"
      ],
      "metadata": {
        "id": "77rbAAwOTqDi"
      }
    },
    {
      "cell_type": "code",
      "source": [
        "host_addresses = {\"router\": \"192.168.1.1\", \"localhost\": \"127.0.0.1\", \"google\": \"8.8.8.8\"}\n",
        "host_addresses.keys()"
      ],
      "metadata": {
        "execution": {
          "iopub.status.busy": "2022-09-13T09:51:11.251474Z",
          "iopub.execute_input": "2022-09-13T09:51:11.251894Z",
          "iopub.status.idle": "2022-09-13T09:51:11.264511Z",
          "shell.execute_reply.started": "2022-09-13T09:51:11.251856Z",
          "shell.execute_reply": "2022-09-13T09:51:11.263156Z"
        },
        "trusted": true,
        "id": "kDKFJNsoTqDi"
      },
      "execution_count": null,
      "outputs": []
    },
    {
      "cell_type": "markdown",
      "source": [
        "<h1 align= \"center\">WEEK FIVE<h1>"
      ],
      "metadata": {
        "id": "gmh5rX-jTqDj"
      }
    },
    {
      "cell_type": "markdown",
      "source": [
        "## Practice Quiz: Object-oriented Programming (Optional)"
      ],
      "metadata": {
        "id": "h4-eCrEATqDj"
      }
    },
    {
      "cell_type": "markdown",
      "source": [
        "Question 1:\n",
        "Let’s test your knowledge of using dot notation to access methods and attributes in an object. Let’s say we have a class called Birds. Birds has two attributes: color and number. Birds also has a method called count() that counts the number of birds (adds a value to number). Which of the following lines of code will correctly print the number of birds? Keep in mind, the number of birds is 0 until they are counted!<br>\n",
        "`Answer: C` <br>\n",
        "bluejay.count() <br>\n",
        "print(bluejay.number) <br>"
      ],
      "metadata": {
        "id": "RHkCAOc1TqDk"
      }
    },
    {
      "cell_type": "markdown",
      "source": [
        "Question 2:\n",
        "Creating new instances of class objects can be a great way to keep track of values using attributes associated with the object. The values of these attributes can be easily changed at the object level.  The following code illustrates a famous quote by George Bernard Shaw, using objects to represent people. Fill in the blanks to make the code satisfy the behavior described in the quote."
      ],
      "metadata": {
        "id": "Jv4gGw2JTqDk"
      }
    },
    {
      "cell_type": "code",
      "source": [
        "# “If you have an apple and I have an apple and we exchange these apples then\n",
        "# you and I will still each have one apple. But if you have an idea and I have\n",
        "# an idea and we exchange these ideas, then each of us will have two ideas.”\n",
        "# George Bernard Shaw\n",
        "\n",
        "class Person:\n",
        "    apples = 0\n",
        "    ideas = 0\n",
        "\n",
        "johanna = Person()\n",
        "johanna.apples = 1\n",
        "johanna.ideas = 1\n",
        "\n",
        "martin = Person()\n",
        "martin.apples = 2\n",
        "martin.ideas = 1\n",
        "\n",
        "def exchange_apples(you, me):\n",
        "#Here, despite G.B. Shaw's quote, our characters have started with       #different amounts of apples so we can better observe the results.\n",
        "#We're going to have Martin and Johanna exchange ALL their apples with #one another.\n",
        "#Hint: how would you switch values of variables,\n",
        "#so that \"you\" and \"me\" will exchange ALL their apples with one another?\n",
        "#Do you need a temporary variable to store one of the values?\n",
        "#You may need more than one line of code to do that, which is OK.\n",
        "    you_box = you.apples\n",
        "    me_box = me.apples\n",
        "    you.apples = me_box\n",
        "    me.apples = you_box\n",
        "    return you.apples, me.apples\n",
        "\n",
        "def exchange_ideas(you, me):\n",
        "    #\"you\" and \"me\" will share our ideas with one another.\n",
        "    #What operations need to be performed, so that each object receives\n",
        "    #the shared number of ideas?\n",
        "    #Hint: how would you assign the total number of ideas to\n",
        "    #each idea attribute? Do you need a temporary variable to store\n",
        "    #the sum of ideas, or can you find another way?\n",
        "    #Use as many lines of code as you need here.\n",
        "    you_box = you.ideas\n",
        "    me_box = me.ideas\n",
        "    you.ideas = you_box + me_box\n",
        "    me.ideas = me_box + you_box\n",
        "    return you.ideas, me.ideas\n",
        "\n",
        "exchange_apples(johanna, martin)\n",
        "print(\"Johanna has {} apples and Martin has {} apples\".format(johanna.apples, martin.apples))\n",
        "exchange_ideas(johanna, martin)\n",
        "print(\"Johanna has {} ideas and Martin has {} ideas\".format(johanna.ideas, martin.ideas))\n",
        "\n",
        "\n",
        "\n"
      ],
      "metadata": {
        "execution": {
          "iopub.status.busy": "2022-09-13T09:51:11.26608Z",
          "iopub.execute_input": "2022-09-13T09:51:11.266383Z",
          "iopub.status.idle": "2022-09-13T09:51:11.276314Z",
          "shell.execute_reply.started": "2022-09-13T09:51:11.266355Z",
          "shell.execute_reply": "2022-09-13T09:51:11.275506Z"
        },
        "trusted": true,
        "id": "CqsS40hTTqDk"
      },
      "execution_count": null,
      "outputs": []
    },
    {
      "cell_type": "markdown",
      "source": [
        "Question 3:\n",
        "The City class has the following attributes: name, country (where the city is located), elevation (measured in meters), and population (approximate, according to recent statistics). Fill in the blanks of the max_elevation_city function to return the name of the city and its country (separated by a comma), when comparing the 3 defined instances for a specified minimal population. For example, calling the function for a minimum population of 1 million: max_elevation_city(1000000) should return \"Sofia, Bulgaria\"."
      ],
      "metadata": {
        "id": "gs_Ubs8JTqDl"
      }
    },
    {
      "cell_type": "code",
      "source": [
        "# define a basic city class\n",
        "class City:\n",
        "\tname = \"\"\n",
        "\tcountry = \"\"\n",
        "\televation = 0\n",
        "\tpopulation = 0\n",
        "\n",
        "# create a new instance of the City class and\n",
        "# define each attribute\n",
        "city1 = City()\n",
        "city1.name = \"Cusco\"\n",
        "city1.country = \"Peru\"\n",
        "city1.elevation = 3399\n",
        "city1.population = 358052\n",
        "\n",
        "# create a new instance of the City class and\n",
        "# define each attribute\n",
        "city2 = City()\n",
        "city2.name = \"Sofia\"\n",
        "city2.country = \"Bulgaria\"\n",
        "city2.elevation = 2290\n",
        "city2.population = 1241675\n",
        "\n",
        "# create a new instance of the City class and\n",
        "# define each attribute\n",
        "city3 = City()\n",
        "city3.name = \"Seoul\"\n",
        "city3.country = \"South Korea\"\n",
        "city3.elevation = 38\n",
        "city3.population = 9733509\n",
        "\n",
        "def max_elevation_city(min_population):\n",
        "    # Initialize the variable that will hold\n",
        "    # the information of the city with\n",
        "    # the highest elevation\n",
        "#    if city1.population > min_population:\n",
        "#       City = city1.name, city1.country\n",
        "#    elif city2.population > min_population:\n",
        "#        City = city2.name, city2.country\n",
        "#    elif city3.population > min_population:\n",
        "#        City = city3.name, city3.country\n",
        "#    else:\n",
        "#        return \"\"\n",
        "#    return City\n",
        "\treturn_city = City()\n",
        "\t# Evaluate the 1st instance to meet the requirements:\n",
        "\t# does city #1 have at least min_population and\n",
        "\t# is its elevation the highest evaluated so far?\n",
        "\tif city1.population > min_population:\n",
        "\t\treturn_city = city1\n",
        "\t\treturn return_city.name, return_city.country\n",
        "\t# Evaluate the 2nd instance to meet the requirements:\n",
        "\t# does city #2 have at least min_population and\n",
        "\t# is its elevation the highest evaluated so far?\n",
        "\tif city2.population > min_population:\n",
        "\t\treturn_city = city2\n",
        "\t\treturn return_city.name, return_city.country\n",
        "\t# Evaluate the 3rd instance to meet the requirements:\n",
        "\t# does city #3 have at least min_population and\n",
        "\t# is its elevation the highest evaluated so far?\n",
        "\tif city3.population > min_population:\n",
        "\t\treturn_city = city3\n",
        "\t\treturn return_city.name, return_city.country\n",
        "\n",
        "    #Format the return string\n",
        "\tif return_city.name:\n",
        "\t\treturn return_city.name, return_city.country\n",
        "\telse:\n",
        "\t\treturn \"\"\n",
        "\n",
        "print(max_elevation_city(100000)) # Should print \"Cusco, Peru\"\n",
        "print(max_elevation_city(1000000)) # Should print \"Sofia, Bulgaria\"\n",
        "print(max_elevation_city(10000000)) # Should print \"\""
      ],
      "metadata": {
        "execution": {
          "iopub.status.busy": "2022-09-13T09:51:11.277503Z",
          "iopub.execute_input": "2022-09-13T09:51:11.277955Z",
          "iopub.status.idle": "2022-09-13T09:51:11.29655Z",
          "shell.execute_reply.started": "2022-09-13T09:51:11.277919Z",
          "shell.execute_reply": "2022-09-13T09:51:11.295594Z"
        },
        "trusted": true,
        "id": "S8kT5lVpTqDl"
      },
      "execution_count": null,
      "outputs": []
    },
    {
      "cell_type": "markdown",
      "source": [
        "`Short code to question 3`"
      ],
      "metadata": {
        "id": "W1FgNQGVTqDm"
      }
    },
    {
      "cell_type": "code",
      "source": [
        "# define a basic city class\n",
        "class City:\n",
        "\tname = \"\"\n",
        "\tcountry = \"\"\n",
        "\televation = 0\n",
        "\tpopulation = 0\n",
        "\n",
        "# create a new instance of the City class and\n",
        "# define each attribute\n",
        "city1 = City()\n",
        "city1.name = \"Cusco\"\n",
        "city1.country = \"Peru\"\n",
        "city1.elevation = 3399\n",
        "city1.population = 358052\n",
        "\n",
        "# create a new instance of the City class and\n",
        "# define each attribute\n",
        "city2 = City()\n",
        "city2.name = \"Sofia\"\n",
        "city2.country = \"Bulgaria\"\n",
        "city2.elevation = 2290\n",
        "city2.population = 1241675\n",
        "\n",
        "# create a new instance of the City class and\n",
        "# define each attribute\n",
        "city3 = City()\n",
        "city3.name = \"Seoul\"\n",
        "city3.country = \"South Korea\"\n",
        "city3.elevation = 38\n",
        "city3.population = 9733509\n",
        "\n",
        "def max_elevation_city(min_population):\n",
        "    # Initialize the variable that will hold\n",
        "    # the information of the city with\n",
        "    # the highest elevation\n",
        "    if city1.population > min_population:\n",
        "       City = city1.name, city1.country\n",
        "    elif city2.population > min_population:\n",
        "        City = city2.name, city2.country\n",
        "    elif city3.population > min_population:\n",
        "        City = city3.name, city3.country\n",
        "    else:\n",
        "        return \"\"\n",
        "    return City\n",
        "\n",
        "print(max_elevation_city(100000)) # Should print \"Cusco, Peru\"\n",
        "print(max_elevation_city(1000000)) # Should print \"Sofia, Bulgaria\"\n",
        "print(max_elevation_city(10000000)) # Should print \"\""
      ],
      "metadata": {
        "execution": {
          "iopub.status.busy": "2022-09-13T09:51:11.297773Z",
          "iopub.execute_input": "2022-09-13T09:51:11.298091Z",
          "iopub.status.idle": "2022-09-13T09:51:11.316402Z",
          "shell.execute_reply.started": "2022-09-13T09:51:11.298065Z",
          "shell.execute_reply": "2022-09-13T09:51:11.315391Z"
        },
        "trusted": true,
        "id": "oxeXegp5TqDm"
      },
      "execution_count": null,
      "outputs": []
    },
    {
      "cell_type": "markdown",
      "source": [
        "Question 4:\n",
        "What makes an object different from a class? <br>\n",
        "`Answer:` B"
      ],
      "metadata": {
        "id": "YRHZBXRNTqDn"
      }
    },
    {
      "cell_type": "markdown",
      "source": [
        "Question 5:\n",
        "We have two pieces of furniture: a brown wood table and a red leather couch. Fill in the blanks following the creation of each Furniture class instance, so that the describe_furniture function can format a sentence that describes these pieces as follows: \"This piece of furniture is made of {color} {material}\""
      ],
      "metadata": {
        "id": "o2k1i3DyTqDn"
      }
    },
    {
      "cell_type": "code",
      "source": [
        "# define a basic city class\n",
        "class City:\n",
        "\tname = \"\"\n",
        "\tcountry = \"\"\n",
        "\televation = 0\n",
        "\tpopulation = 0\n",
        "\n",
        "# create a new instance of the City class and\n",
        "# define each attribute\n",
        "city1 = City()\n",
        "city1.name = \"Cusco\"\n",
        "city1.country = \"Peru\"\n",
        "city1.elevation = 3399\n",
        "city1.population = 358052\n",
        "\n",
        "# create a new instance of the City class and\n",
        "# define each attribute\n",
        "city2 = City()\n",
        "city2.name = \"Sofia\"\n",
        "city2.country = \"Bulgaria\"\n",
        "city2.elevation = 2290\n",
        "city2.population = 1241675\n",
        "\n",
        "# create a new instance of the City class and\n",
        "# define each attribute\n",
        "city3 = City()\n",
        "city3.name = \"Seoul\"\n",
        "city3.country = \"South Korea\"\n",
        "city3.elevation = 38\n",
        "city3.population = 9733509\n",
        "\n",
        "def max_elevation_city(min_population):\n",
        "\t# Initialize the variable that will hold\n",
        "# the information of the city with\n",
        "# the highest elevation\n",
        "  highest_elevation=0\n",
        "  return_city =\"\"\n",
        "\n",
        "\t# Evaluate the 1st instance to meet the requirements:\n",
        "\t# does city #1 have at least min_population and\n",
        "\t# is its elevation the highest evaluated so far?\n",
        "  if (city1.population>min_population):\n",
        "      if(highest_elevation<city1.elevation):\n",
        "          highest_elevation=city1.elevation\n",
        "          return_city = (\"{}, {}\".format(city1.name,city1.country))\n",
        "\t# Evaluate the 2nd instance to meet the requirements:\n",
        "\t# does city #2 have at least min_population and\n",
        "\t# is its elevation the highest evaluated so far?\n",
        "  if(city2.population>min_population):\n",
        "      if (highest_elevation<city2.elevation):\n",
        "          highest_elevation=city2.elevation\n",
        "          return_city = (\"{}, {}\".format(city2.name,city2.country))\n",
        "\t# Evaluate the 3rd instance to meet the requirements:\n",
        "\t# does city #3 have at least min_population and\n",
        "\t# is its elevation the highest evaluated so far?\n",
        "  if(city3.population>min_population):\n",
        "      if (highest_elevation<city3.elevation):\n",
        "          highest_elevation=city3.elevation\n",
        "          return_city = (\"{}, {}\".format(city3.name,city3.country))\n",
        "\n",
        "\t#Format the return string\n",
        "  if return_city!=\"\":\n",
        "      return return_city\n",
        "  else:\n",
        "      return \"\"\n",
        "\n",
        "print(max_elevation_city(100000)) # Should print \"Cusco, Peru\"\n",
        "print(max_elevation_city(1000000)) # Should print \"Sofia, Bulgaria\"\n",
        "print(max_elevation_city(10000000)) # Should print \"\"\n"
      ],
      "metadata": {
        "execution": {
          "iopub.status.busy": "2022-09-13T09:51:11.324897Z",
          "iopub.execute_input": "2022-09-13T09:51:11.325283Z",
          "iopub.status.idle": "2022-09-13T09:51:11.336206Z",
          "shell.execute_reply.started": "2022-09-13T09:51:11.325258Z",
          "shell.execute_reply": "2022-09-13T09:51:11.335305Z"
        },
        "trusted": true,
        "id": "NxpUubTNTqDo"
      },
      "execution_count": null,
      "outputs": []
    },
    {
      "cell_type": "markdown",
      "source": [
        "## Methods and Classes (Optional)"
      ],
      "metadata": {
        "id": "DTLNUNXETqDo"
      }
    },
    {
      "cell_type": "markdown",
      "source": [
        "The code below defines an *Elevator* class. The elevator has a current floor, it also has a top and a bottom floor that are the minimum and maximum floors it can go to. Fill in the blanks to make the elevator go through the floors requested."
      ],
      "metadata": {
        "id": "ebGHoFG_TqDq"
      }
    },
    {
      "cell_type": "code",
      "source": [
        "class Elevator:\n",
        "    def __init__(self, bottom, top, current):\n",
        "        \"\"\"Initializes the Elevator instance.\"\"\"\n",
        "        self.bottom = bottom\n",
        "        self.top = top\n",
        "        self.current = current\n",
        "\n",
        "    def up(self):\n",
        "        \"\"\"Makes the elevator go up one floor.\"\"\"\n",
        "        if self.current < self.top:\n",
        "            self.current += 1\n",
        "\n",
        "    def down(self):\n",
        "        \"\"\"Makes the elevator go down one floor.\"\"\"\n",
        "        if self.current > self.bottom:\n",
        "            self.current -= 1\n",
        "\n",
        "    def go_to(self, floor):\n",
        "        \"\"\"Makes the elevator go to the specific floor.\"\"\"\n",
        "        if self.bottom <= floor <= self.top:\n",
        "            self.current = floor\n",
        "        else:\n",
        "            self.current =  print(f'''The elevator is currently at floor {self.current}\n",
        "The lowest floor is {self.bottom} and the top most floor is {self.top}''')\n",
        "\n",
        "    def __str__(self):\n",
        "        return f'Current floor: {self.current}'\n",
        "\n",
        "elevator = Elevator(-1, 10, 0)"
      ],
      "metadata": {
        "execution": {
          "iopub.status.busy": "2022-09-13T09:51:11.337461Z",
          "iopub.execute_input": "2022-09-13T09:51:11.338215Z",
          "iopub.status.idle": "2022-09-13T09:51:11.356495Z",
          "shell.execute_reply.started": "2022-09-13T09:51:11.338186Z",
          "shell.execute_reply": "2022-09-13T09:51:11.355176Z"
        },
        "trusted": true,
        "id": "SjtGMMhcTqDq"
      },
      "execution_count": null,
      "outputs": []
    },
    {
      "cell_type": "markdown",
      "source": [
        "\n",
        "This class is pretty empty and doesn't do much.  To test whether your *Elevator* class is working correctly, run the code blocks below."
      ],
      "metadata": {
        "id": "MJZtco1OTqDr"
      }
    },
    {
      "cell_type": "code",
      "source": [
        "elevator = Elevator(-1, 10, 10)"
      ],
      "metadata": {
        "execution": {
          "iopub.status.busy": "2022-09-13T09:51:11.358163Z",
          "iopub.execute_input": "2022-09-13T09:51:11.358645Z",
          "iopub.status.idle": "2022-09-13T09:51:11.373223Z",
          "shell.execute_reply.started": "2022-09-13T09:51:11.358615Z",
          "shell.execute_reply": "2022-09-13T09:51:11.371729Z"
        },
        "trusted": true,
        "id": "l-fkwPjkTqDs"
      },
      "execution_count": null,
      "outputs": []
    },
    {
      "cell_type": "code",
      "source": [
        "elevator.up()\n",
        "elevator.current #should output 1"
      ],
      "metadata": {
        "execution": {
          "iopub.status.busy": "2022-09-13T09:51:11.374494Z",
          "iopub.execute_input": "2022-09-13T09:51:11.374783Z",
          "iopub.status.idle": "2022-09-13T09:51:11.38811Z",
          "shell.execute_reply.started": "2022-09-13T09:51:11.374758Z",
          "shell.execute_reply": "2022-09-13T09:51:11.387087Z"
        },
        "trusted": true,
        "id": "sY_DeWecTqDt"
      },
      "execution_count": null,
      "outputs": []
    },
    {
      "cell_type": "code",
      "source": [
        "elevator.down()\n",
        "elevator.current #should output 0"
      ],
      "metadata": {
        "execution": {
          "iopub.status.busy": "2022-09-13T09:51:11.389327Z",
          "iopub.execute_input": "2022-09-13T09:51:11.389639Z",
          "iopub.status.idle": "2022-09-13T09:51:11.402312Z",
          "shell.execute_reply.started": "2022-09-13T09:51:11.389611Z",
          "shell.execute_reply": "2022-09-13T09:51:11.401106Z"
        },
        "trusted": true,
        "id": "qJ61zMETTqDt"
      },
      "execution_count": null,
      "outputs": []
    },
    {
      "cell_type": "code",
      "source": [
        "elevator.go_to(5)\n",
        "elevator.current #should output 10"
      ],
      "metadata": {
        "execution": {
          "iopub.status.busy": "2022-09-13T09:51:11.403678Z",
          "iopub.execute_input": "2022-09-13T09:51:11.403988Z",
          "iopub.status.idle": "2022-09-13T09:51:11.413415Z",
          "shell.execute_reply.started": "2022-09-13T09:51:11.403962Z",
          "shell.execute_reply": "2022-09-13T09:51:11.41214Z"
        },
        "trusted": true,
        "id": "4CiJ_k3cTqDt"
      },
      "execution_count": null,
      "outputs": []
    },
    {
      "cell_type": "markdown",
      "source": [
        "If you get a **<font color =red>NameError</font>** message, be sure to run the *Elevator* class definition code block first. If you get an **<font color =red>AttributeError</font>** message, be sure to initialize *self.current* in your *Elevator* class."
      ],
      "metadata": {
        "id": "ZG3iWQ4oTqDu"
      }
    },
    {
      "cell_type": "markdown",
      "source": [
        "Once you've made the above methods output 1, 0 and 10, you've successfully coded the *Elevator* class and its methods. Great work!\n",
        "<br><br>\n",
        "For the up and down methods, did you take into account the top and bottom floors? Keep in mind that the elevator shouldn't go above the top floor or below the bottom floor. To check that out, try the code below and verify if it's working as expected. If it's not, then go back and modify the methods so that this code behaves correctly."
      ],
      "metadata": {
        "id": "KSwRAqphTqDv"
      }
    },
    {
      "cell_type": "code",
      "source": [
        "# Go to the top floor. Try to go up, it should stay. Then go down.\n",
        "elevator.go_to(10)\n",
        "elevator.up()\n",
        "elevator.down()\n",
        "print(elevator.current) # should be 9\n",
        "# Go to the bottom floor. Try to go down, it should stay. Then go up.\n",
        "elevator.go_to(-1)\n",
        "elevator.down()\n",
        "elevator.down()\n",
        "elevator.up()\n",
        "elevator.up()\n",
        "print(elevator.current) # should be 1"
      ],
      "metadata": {
        "execution": {
          "iopub.status.busy": "2022-09-13T09:51:11.414642Z",
          "iopub.execute_input": "2022-09-13T09:51:11.415002Z",
          "iopub.status.idle": "2022-09-13T09:51:11.424974Z",
          "shell.execute_reply.started": "2022-09-13T09:51:11.41497Z",
          "shell.execute_reply": "2022-09-13T09:51:11.423577Z"
        },
        "trusted": true,
        "id": "Rfzu4TDnTqDx"
      },
      "execution_count": null,
      "outputs": []
    },
    {
      "cell_type": "markdown",
      "source": [
        "Now add the __str__ method to your *Elevator* class definition above so that when printing the elevator using the **print( )** method, we get the current floor together with a message. For example, in the 5th floor it should say \"Current floor: 5\""
      ],
      "metadata": {
        "id": "7Fg-THZFTqDx"
      }
    },
    {
      "cell_type": "code",
      "source": [
        "elevator.go_to(5)\n",
        "print(elevator)"
      ],
      "metadata": {
        "execution": {
          "iopub.status.busy": "2022-09-13T09:51:11.426582Z",
          "iopub.execute_input": "2022-09-13T09:51:11.426993Z",
          "iopub.status.idle": "2022-09-13T09:51:11.438259Z",
          "shell.execute_reply.started": "2022-09-13T09:51:11.426952Z",
          "shell.execute_reply": "2022-09-13T09:51:11.437009Z"
        },
        "trusted": true,
        "id": "wkENwrQ2TqDy"
      },
      "execution_count": null,
      "outputs": []
    },
    {
      "cell_type": "markdown",
      "source": [
        "Remember, Python uses the default method, that prints the position where the object is stored in the computer’s memory.  If your output is something like: <br>\n",
        "> <__main__.Elevator object at 0x7ff6a9ff3fd0>\n",
        "\n",
        "Then you will need to add the special __str__ method, which returns the string that you want to print.  Try again until you get the desired output, \"Current floor: 5\"."
      ],
      "metadata": {
        "id": "9ygZ9NA-TqDz"
      }
    },
    {
      "cell_type": "markdown",
      "source": [
        "Once you have successfully produced the desired output, you are all done with this practice notebook. Awesome!"
      ],
      "metadata": {
        "id": "pIlQO046TqD0"
      }
    },
    {
      "cell_type": "markdown",
      "source": [
        "# Code Reuse"
      ],
      "metadata": {
        "id": "BZm_vPCDTqD0"
      }
    },
    {
      "cell_type": "markdown",
      "source": [
        "Let’s put what we learned about code reuse all together.\n",
        "<br><br>\n",
        "First, let’s look back at **inheritance**. Run the following cell that defines a generic `Animal` class."
      ],
      "metadata": {
        "id": "-CLePMzTTqD0"
      }
    },
    {
      "cell_type": "code",
      "source": [
        "class Animal:\n",
        "    name = \"\"\n",
        "    category = \"\"\n",
        "\n",
        "    def __init__(self, name):\n",
        "        self.name = name\n",
        "\n",
        "    def set_category(self, category):\n",
        "        self.category = category"
      ],
      "metadata": {
        "execution": {
          "iopub.status.busy": "2022-09-13T09:51:11.439449Z",
          "iopub.execute_input": "2022-09-13T09:51:11.439757Z",
          "iopub.status.idle": "2022-09-13T09:51:11.450793Z",
          "shell.execute_reply.started": "2022-09-13T09:51:11.439731Z",
          "shell.execute_reply": "2022-09-13T09:51:11.44952Z"
        },
        "trusted": true,
        "id": "JTm1YmY8TqD1"
      },
      "execution_count": null,
      "outputs": []
    },
    {
      "cell_type": "markdown",
      "source": [
        "What we have is not enough to do much -- yet. That’s where you come in.\n",
        "<br><br>\n",
        "In the next cell, define a `Turtle` class that inherits from the `Animal` class. Then go ahead and set its category. For instance, a turtle is generally considered a reptile. Although modern cladistics call this categorization into question, for purposes of this exercise we will say turtles are reptiles!"
      ],
      "metadata": {
        "id": "OiLlxcOwTqD1"
      }
    },
    {
      "cell_type": "code",
      "source": [
        "Turtle = Animal('Turtle')\n",
        "Turtle.set_category('reptile')"
      ],
      "metadata": {
        "execution": {
          "iopub.status.busy": "2022-09-13T09:51:11.452331Z",
          "iopub.execute_input": "2022-09-13T09:51:11.452885Z",
          "iopub.status.idle": "2022-09-13T09:51:11.465555Z",
          "shell.execute_reply.started": "2022-09-13T09:51:11.452842Z",
          "shell.execute_reply": "2022-09-13T09:51:11.464052Z"
        },
        "trusted": true,
        "id": "_a9SOBctTqD2"
      },
      "execution_count": null,
      "outputs": []
    },
    {
      "cell_type": "markdown",
      "source": [
        "Run the following cell to check whether you correctly defined your `Turtle` class and set its category to reptile."
      ],
      "metadata": {
        "id": "wMZSaYsOTqD2"
      }
    },
    {
      "cell_type": "code",
      "source": [
        "print(Turtle.category)"
      ],
      "metadata": {
        "execution": {
          "iopub.status.busy": "2022-09-13T09:51:11.467129Z",
          "iopub.execute_input": "2022-09-13T09:51:11.467534Z",
          "iopub.status.idle": "2022-09-13T09:51:11.478701Z",
          "shell.execute_reply.started": "2022-09-13T09:51:11.4675Z",
          "shell.execute_reply": "2022-09-13T09:51:11.477317Z"
        },
        "trusted": true,
        "id": "UIVrzLhgTqD3"
      },
      "execution_count": null,
      "outputs": []
    },
    {
      "cell_type": "markdown",
      "source": [
        "Was the output of the above cell reptile? If not, go back and edit your `Turtle` class making sure that it inherits from the `Animal` class and its category is properly set to reptile. Be sure to re-run that cell once you've finished your edits. Did you get it? If so, great!"
      ],
      "metadata": {
        "id": "gUUhRpWATqD3"
      }
    },
    {
      "cell_type": "markdown",
      "source": [
        "Next, let’s practice **composition** a little bit. This one will require a second type of `Animal` that is in the same category as the first. For example, since you already created a `Turtle` class, go ahead and create a `Snake` class. Don’t forget that it also inherits from the `Animal` class and that its category should be set to reptile."
      ],
      "metadata": {
        "id": "v38LXu0GTqD4"
      }
    },
    {
      "cell_type": "code",
      "source": [
        "Snake = Animal('snake')\n",
        "Snake.set_category('reptile')"
      ],
      "metadata": {
        "execution": {
          "iopub.status.busy": "2022-09-13T09:51:11.480186Z",
          "iopub.execute_input": "2022-09-13T09:51:11.480552Z",
          "iopub.status.idle": "2022-09-13T09:51:11.4941Z",
          "shell.execute_reply.started": "2022-09-13T09:51:11.480515Z",
          "shell.execute_reply": "2022-09-13T09:51:11.492553Z"
        },
        "trusted": true,
        "id": "0V7MOdWiTqD4"
      },
      "execution_count": null,
      "outputs": []
    },
    {
      "cell_type": "markdown",
      "source": [
        "Now, let’s say we have a large variety of `Animal`s (such as turtles and snakes) in a Zoo. Below we have the `Zoo` class. We’re going to use it to organize our various `Animal`s. Remember, inheritance says a Turtle is an `Animal`, but a `Zoo` is not an `Animal` and an `Animal` is not a `Zoo` -- though they are related to one another."
      ],
      "metadata": {
        "id": "72uSllF4TqD5"
      }
    },
    {
      "cell_type": "markdown",
      "source": [
        "Fill in the blanks of the `Zoo` class below so that you can use **zoo.add_animal( )** to add instances of the `Animal` subclasses you created above. Once you’ve added them all, you should be able to use **zoo.total_of_category( )** to tell you exactly how many individual `Animal` types the `Zoo` has for each category! Be sure to run the cell once you've finished your edits."
      ],
      "metadata": {
        "id": "R8hja970TqD5"
      }
    },
    {
      "cell_type": "code",
      "source": [
        "class Zoo:\n",
        "    def __init__(self):\n",
        "        self.current_animals = {}\n",
        "\n",
        "    def add_animal(self, animal):\n",
        "        self.current_animals[animal.name] = animal.category\n",
        "\n",
        "    def total_of_category(self, category):\n",
        "        result = 0\n",
        "        for animal in self.current_animals.values():\n",
        "            if animal == category:\n",
        "                result += 1\n",
        "        return result\n",
        "\n",
        "zoo = Zoo()"
      ],
      "metadata": {
        "execution": {
          "iopub.status.busy": "2022-09-13T09:51:11.495193Z",
          "iopub.execute_input": "2022-09-13T09:51:11.495574Z",
          "iopub.status.idle": "2022-09-13T09:51:11.506901Z",
          "shell.execute_reply.started": "2022-09-13T09:51:11.495539Z",
          "shell.execute_reply": "2022-09-13T09:51:11.505247Z"
        },
        "trusted": true,
        "id": "f5ConQ8ETqD5"
      },
      "execution_count": null,
      "outputs": []
    },
    {
      "cell_type": "markdown",
      "source": [
        "Run the following cell to check whether you properly filled in the blanks of your `Zoo` class."
      ],
      "metadata": {
        "id": "9blITANDTqD6"
      }
    },
    {
      "cell_type": "code",
      "source": [
        "turtle = Turtle#(\"Turtle\") #create an instance of the Turtle class\n",
        "snake = Snake#(\"Snake\") #create an instance of the Snake class\n",
        "zoo.add_animal(turtle)\n",
        "zoo.add_animal(snake)\n",
        "\n",
        "print(zoo.total_of_category(\"reptile\")) #how many zoo animal types in the reptile category"
      ],
      "metadata": {
        "execution": {
          "iopub.status.busy": "2022-09-13T09:51:11.508563Z",
          "iopub.execute_input": "2022-09-13T09:51:11.508955Z",
          "iopub.status.idle": "2022-09-13T09:51:11.525261Z",
          "shell.execute_reply.started": "2022-09-13T09:51:11.508914Z",
          "shell.execute_reply": "2022-09-13T09:51:11.52392Z"
        },
        "trusted": true,
        "id": "ti4o-Q21TqD6"
      },
      "execution_count": null,
      "outputs": []
    },
    {
      "cell_type": "markdown",
      "source": [
        "Was the output of the above cell 2? If not, go back and edit the `Zoo` class making sure to fill in the blanks with the appropriate attributes. Be sure to re-run that cell once you've finished your edits.  \n",
        "<br>\n",
        "Did you get it? If so, perfect! You have successfully defined your `Turtle` and `Snake` subclasses as well as your `Zoo` class.  You are all done with this notebook. Great work!"
      ],
      "metadata": {
        "id": "Zw26QwadTqD7"
      }
    },
    {
      "cell_type": "markdown",
      "source": [
        "# Assessment - Object-oriented programming"
      ],
      "metadata": {
        "id": "3R2eN96qTqD7"
      }
    },
    {
      "cell_type": "markdown",
      "source": [
        "In this exercise, we'll create a few classes to simulate a server that's taking connections from the outside and then a load balancer that ensures that there are enough servers to serve those connections.\n",
        "<br><br>\n",
        "To represent the servers that are taking care of the connections, we'll use a Server class. Each connection is represented by an id, that could, for example, be the IP address of the computer connecting to the server.  For our simulation, each connection creates a random amount of load in the server, between 1 and 10.\n",
        "<br><br>\n",
        "Run the following code that defines this Server class."
      ],
      "metadata": {
        "id": "qKPhIcIzTqD7"
      }
    },
    {
      "cell_type": "code",
      "source": [
        "#Begin Portion 1#\n",
        "import random\n",
        "\n",
        "class Server:\n",
        "    def __init__(self):\n",
        "        \"\"\"Creates a new server instance, with no active connections.\"\"\"\n",
        "        self.connections = {}\n",
        "\n",
        "    def add_connection(self, connection_id):\n",
        "        \"\"\"Adds a new connection to this server.\"\"\"\n",
        "        connection_load = random.random()*10+1\n",
        "        # Add the connection to the dictionary with the calculated load\n",
        "        self.connections[connection_id] = connection_load\n",
        "\n",
        "    def close_connection(self, connection_id):\n",
        "        \"\"\"Closes a connection on this server.\"\"\"\n",
        "        # Remove the connection from the dictionary\n",
        "        self.connections.pop(connection_id)\n",
        "\n",
        "    def load(self):\n",
        "        \"\"\"Calculates the current load for all connections.\"\"\"\n",
        "        total = 0\n",
        "        # Add up the load for each of the connections\n",
        "        for load in self.connections.values():\n",
        "            total += load\n",
        "        return total\n",
        "\n",
        "    def __str__(self):\n",
        "        \"\"\"Returns a string with the current load of the server\"\"\"\n",
        "        return \"{:.2f}%\".format(self.load())\n",
        "\n",
        "#End Portion 1#"
      ],
      "metadata": {
        "execution": {
          "iopub.status.busy": "2022-09-13T09:51:11.527427Z",
          "iopub.execute_input": "2022-09-13T09:51:11.527801Z",
          "iopub.status.idle": "2022-09-13T09:51:11.537451Z",
          "shell.execute_reply.started": "2022-09-13T09:51:11.527766Z",
          "shell.execute_reply": "2022-09-13T09:51:11.536436Z"
        },
        "trusted": true,
        "id": "vhXO3XiwTqD8"
      },
      "execution_count": null,
      "outputs": []
    },
    {
      "cell_type": "markdown",
      "source": [
        "Now run the following cell to create a Server instance and add a connection to it, then check the load:"
      ],
      "metadata": {
        "id": "C7zzDFGOTqD8"
      }
    },
    {
      "cell_type": "code",
      "source": [
        "server = Server()\n",
        "server.add_connection(\"192.168.1.1\")\n",
        "\n",
        "print(server.load())\n",
        "\n"
      ],
      "metadata": {
        "execution": {
          "iopub.status.busy": "2022-09-13T09:51:11.538435Z",
          "iopub.execute_input": "2022-09-13T09:51:11.538695Z",
          "iopub.status.idle": "2022-09-13T09:51:11.552316Z",
          "shell.execute_reply.started": "2022-09-13T09:51:11.538671Z",
          "shell.execute_reply": "2022-09-13T09:51:11.551119Z"
        },
        "trusted": true,
        "id": "s0aGu_SnTqD9"
      },
      "execution_count": null,
      "outputs": []
    },
    {
      "cell_type": "markdown",
      "source": [
        "After running the above code cell, if you get a **<font color =red>NameError</font>** message, be sure to run the Server class definition code block first.\n",
        "\n",
        "The output should be 0.  This is because some things are missing from the Server class. So, you'll need to go back and fill in the blanks to make it behave properly.\n",
        "<br><br>\n",
        "Go back to the Server class definition and fill in the missing parts for the `add_connection` and `load` methods to make the cell above print a number different than zero.  As the load is calculated randomly, this number should be different each time the code is executed.\n",
        "<br><br>\n",
        "**Hint:** Recall that you can iterate through the values of your connections dictionary just as you would any sequence."
      ],
      "metadata": {
        "id": "ViAmDr84TqD9"
      }
    },
    {
      "cell_type": "markdown",
      "source": [
        "Great! If your output is a random number between 1 and 10, you have successfully coded the `add_connection` and `load` methods of the Server class.  Well done!\n",
        "<br><br>\n",
        "What about closing a connection? Right now the `close_connection` method doesn't do anything. Go back to the Server class definition and fill in the missing code for the `close_connection` method to make the following code work correctly:"
      ],
      "metadata": {
        "id": "ziajK_Q_TqD-"
      }
    },
    {
      "cell_type": "code",
      "source": [
        "server.close_connection(\"192.168.1.1\")\n",
        "print(server.load())\n"
      ],
      "metadata": {
        "scrolled": true,
        "execution": {
          "iopub.status.busy": "2022-09-13T09:51:11.553286Z",
          "iopub.execute_input": "2022-09-13T09:51:11.553604Z",
          "iopub.status.idle": "2022-09-13T09:51:11.566389Z",
          "shell.execute_reply.started": "2022-09-13T09:51:11.553576Z",
          "shell.execute_reply": "2022-09-13T09:51:11.564807Z"
        },
        "trusted": true,
        "id": "6KddLzMATqD-"
      },
      "execution_count": null,
      "outputs": []
    },
    {
      "cell_type": "markdown",
      "source": [
        "You have successfully coded the `close_connection` method if the cell above prints 0.\n",
        "<br><br>\n",
        "**Hint:** Remember that `del` dictionary[key] removes the item with key *key* from the dictionary."
      ],
      "metadata": {
        "id": "bbV_aFVGTqEO"
      }
    },
    {
      "cell_type": "markdown",
      "source": [
        "Alright, we now have a basic implementation of the server class. Let's look at the basic LoadBalancing class. This class will start with only one server available. When a connection gets added, it will randomly select a server to serve that connection, and then pass on the connection to the server. The LoadBalancing class also needs to keep track of the ongoing connections to be able to close them. This is the basic structure:"
      ],
      "metadata": {
        "id": "PUKNhUxOTqEP"
      }
    },
    {
      "cell_type": "code",
      "source": [
        "#Begin Portion 2#\n",
        "class LoadBalancing:\n",
        "    def __init__(self):\n",
        "        \"\"\"Initialize the load balancing system with one server\"\"\"\n",
        "        self.connections = {}\n",
        "        self.servers = [Server()]\n",
        "\n",
        "    def add_connection(self, connection_id):\n",
        "        \"\"\"Randomly selects a server and adds a connection to it.\"\"\"\n",
        "        server = random.choice(self.servers)\n",
        "        # Add the connection to the dictionary with the selected server\n",
        "        # Add the connection to the server\n",
        "        server.add_connection(connection_id)\n",
        "        self.ensure_availability()\n",
        "\n",
        "    def close_connection(self, connection_id):\n",
        "        \"\"\"Closes the connection on the the server corresponding to connection_id.\"\"\"\n",
        "        # Find out the right server\n",
        "        # Close the connection on the server\n",
        "        # Remove the connection from the load balancer\n",
        "        for server in self.servers:\n",
        "            if connection_id in server.connections:\n",
        "                server.close_connection(connection_id)\n",
        "                break\n",
        "\n",
        "    def avg_load(self):\n",
        "        \"\"\"Calculates the average load of all servers\"\"\"\n",
        "        # Sum the load of each server and divide by the amount of servers\n",
        "        total_load = 0\n",
        "        total_server = 0\n",
        "        for server in self.servers:\n",
        "            total_load += server.load()\n",
        "            total_server += 1\n",
        "        return total_load/total_server\n",
        "\n",
        "    def ensure_availability(self):\n",
        "        \"\"\"If the average load is higher than 50, spin up a new server\"\"\"\n",
        "        if self.avg_load() > 50:\n",
        "            self.servers.append(Server())\n",
        "\n",
        "    def __str__(self):\n",
        "        \"\"\"Returns a string with the load for each server.\"\"\"\n",
        "        loads = [str(server) for server in self.servers]\n",
        "        return \"[{}]\".format(\",\".join(loads))\n",
        "#End Portion 2#"
      ],
      "metadata": {
        "execution": {
          "iopub.status.busy": "2022-09-13T09:51:11.567675Z",
          "iopub.execute_input": "2022-09-13T09:51:11.568435Z",
          "iopub.status.idle": "2022-09-13T09:51:11.579088Z",
          "shell.execute_reply.started": "2022-09-13T09:51:11.568401Z",
          "shell.execute_reply": "2022-09-13T09:51:11.578009Z"
        },
        "trusted": true,
        "id": "9_8Ct7fjTqEP"
      },
      "execution_count": null,
      "outputs": []
    },
    {
      "cell_type": "markdown",
      "source": [
        "As with the Server class, this class is currently incomplete. You need to fill in the gaps to make it work correctly. For example, this snippet should create a connection in the load balancer, assign it to a running server and then the load should be more than zero:"
      ],
      "metadata": {
        "id": "VDxagMEvTqEQ"
      }
    },
    {
      "cell_type": "code",
      "source": [
        "l = LoadBalancing()\n",
        "l.add_connection(\"fdca:83d2::f20d\")\n",
        "print(l.avg_load())\n"
      ],
      "metadata": {
        "execution": {
          "iopub.status.busy": "2022-09-13T09:51:13.73594Z",
          "iopub.execute_input": "2022-09-13T09:51:13.736936Z",
          "iopub.status.idle": "2022-09-13T09:51:13.742635Z",
          "shell.execute_reply.started": "2022-09-13T09:51:13.736881Z",
          "shell.execute_reply": "2022-09-13T09:51:13.74188Z"
        },
        "trusted": true,
        "id": "sjJ5pbzoTqER"
      },
      "execution_count": null,
      "outputs": []
    },
    {
      "cell_type": "markdown",
      "source": [
        "After running the above code, the output is 0.  Fill in the missing parts for the `add_connection` and `avg_load` methods of the LoadBalancing class to make this print the right load. Be sure that the load balancer now has an average load more than 0 before proceeding."
      ],
      "metadata": {
        "id": "VJvnLr5MTqER"
      }
    },
    {
      "cell_type": "markdown",
      "source": [
        "What if we add a new server?"
      ],
      "metadata": {
        "id": "pyELL-CqTqER"
      }
    },
    {
      "cell_type": "code",
      "source": [
        "l.servers.append(Server())\n",
        "print(l.avg_load())\n"
      ],
      "metadata": {
        "execution": {
          "iopub.status.busy": "2022-09-13T09:51:13.744187Z",
          "iopub.execute_input": "2022-09-13T09:51:13.744964Z",
          "iopub.status.idle": "2022-09-13T09:51:13.757562Z",
          "shell.execute_reply.started": "2022-09-13T09:51:13.744936Z",
          "shell.execute_reply": "2022-09-13T09:51:13.756602Z"
        },
        "trusted": true,
        "id": "mjzM2jbfTqES"
      },
      "execution_count": null,
      "outputs": []
    },
    {
      "cell_type": "markdown",
      "source": [
        "The average load should now be half of what it was before. If it's not, make sure you correctly fill in the missing gaps for the `add_connection` and `avg_load` methods so that this code works correctly.\n",
        "<br><br>\n",
        "**Hint:** You can iterate through the all servers in the *self.servers* list to get the total server load amount and then divide by the length of the *self.servers* list to compute the average load amount."
      ],
      "metadata": {
        "id": "jYM5nnwpTqES"
      }
    },
    {
      "cell_type": "markdown",
      "source": [
        "Fantastic! Now what about closing the connection?"
      ],
      "metadata": {
        "id": "fmaheDOhTqES"
      }
    },
    {
      "cell_type": "code",
      "source": [
        "l.close_connection(\"fdca:83d2::f20d\")\n",
        "print(l.avg_load())\n"
      ],
      "metadata": {
        "execution": {
          "iopub.status.busy": "2022-09-13T09:51:13.828954Z",
          "iopub.execute_input": "2022-09-13T09:51:13.829953Z",
          "iopub.status.idle": "2022-09-13T09:51:13.835146Z",
          "shell.execute_reply.started": "2022-09-13T09:51:13.829918Z",
          "shell.execute_reply": "2022-09-13T09:51:13.834147Z"
        },
        "trusted": true,
        "id": "BWmTvFUyTqEU"
      },
      "execution_count": null,
      "outputs": []
    },
    {
      "cell_type": "markdown",
      "source": [
        "Fill in the code of the LoadBalancing class to make the load go back to zero once the connection is closed.\n",
        "<br><br>\n",
        "Great job! Before, we added a server manually. But we want this to happen automatically when the average load is more than 50%. To make this possible, fill in the missing code for the `ensure_availability` method and call it from the `add_connection` method after a connection has been added. You can test it with the following code:"
      ],
      "metadata": {
        "id": "wR0pRaXKTqEV"
      }
    },
    {
      "cell_type": "code",
      "source": [
        "for connection in range(20):\n",
        "    l.add_connection(connection)\n",
        "print(l)\n"
      ],
      "metadata": {
        "execution": {
          "iopub.status.busy": "2022-09-13T09:51:13.837055Z",
          "iopub.execute_input": "2022-09-13T09:51:13.83835Z",
          "iopub.status.idle": "2022-09-13T09:51:13.848376Z",
          "shell.execute_reply.started": "2022-09-13T09:51:13.838309Z",
          "shell.execute_reply": "2022-09-13T09:51:13.847329Z"
        },
        "trusted": true,
        "id": "NR8cwIdiTqEV"
      },
      "execution_count": null,
      "outputs": []
    },
    {
      "cell_type": "markdown",
      "source": [
        "The code above adds 20 new connections and then prints the loads for each server in the load balancer.  If you coded correctly, new servers should have been added automatically to ensure that the average load of all servers is not more than 50%.\n",
        "<br><br>\n",
        "Run the following code to verify that the average load of the load balancer is not more than 50%."
      ],
      "metadata": {
        "id": "J1xfiM5KTqEW"
      }
    },
    {
      "cell_type": "code",
      "source": [
        "print(l.avg_load())\n",
        "\n",
        "\n"
      ],
      "metadata": {
        "execution": {
          "iopub.status.busy": "2022-09-13T09:51:13.849634Z",
          "iopub.execute_input": "2022-09-13T09:51:13.850166Z",
          "iopub.status.idle": "2022-09-13T09:51:13.861372Z",
          "shell.execute_reply.started": "2022-09-13T09:51:13.850139Z",
          "shell.execute_reply": "2022-09-13T09:51:13.860229Z"
        },
        "trusted": true,
        "id": "fOCW1rjlTqEW"
      },
      "execution_count": null,
      "outputs": []
    },
    {
      "cell_type": "markdown",
      "source": [
        "Awesome! If the average load is indeed less than 50%, you are all done with this assessment."
      ],
      "metadata": {
        "id": "hXidNHiXTqEX"
      }
    },
    {
      "cell_type": "markdown",
      "source": [
        "<h1 align= \"center\">WEEK SIX<h1>"
      ],
      "metadata": {
        "id": "luOdcaaDTqEX"
      }
    },
    {
      "cell_type": "markdown",
      "source": [
        "# Final Project - Word Cloud"
      ],
      "metadata": {
        "id": "MzYRrb9bTqEX"
      }
    },
    {
      "cell_type": "markdown",
      "source": [
        "For this project, you'll create a \"word cloud\" from a text by writing a script.  This script needs to process the text, remove punctuation, ignore case and words that do not contain all alphabets, count the frequencies, and ignore uninteresting or irrelevant words.  A dictionary is the output of the `calculate_frequencies` function.  The `wordcloud` module will then generate the image from your dictionary."
      ],
      "metadata": {
        "id": "MXxUvWjXTqEY"
      }
    },
    {
      "cell_type": "markdown",
      "source": [
        "For the input text of your script, you will need to provide a file that contains text only.  For the text itself, you can copy and paste the contents of a website you like.  Or you can use a site like [Project Gutenberg](https://www.gutenberg.org/) to find books that are available online.  You could see what word clouds you can get from famous books, like a Shakespeare play or a novel by Jane Austen. Save this as a .txt file somewhere on your computer.\n",
        "<br><br>\n",
        "Now you will need to upload your input file here so that your script will be able to process it.  To do the upload, you will need an uploader widget.  Run the following cell to perform all the installs and imports for your word cloud script and uploader widget.  It may take a minute for all of this to run and there will be a lot of output messages. But, be patient. Once you get the following final line of output, the code is done executing. Then you can continue on with the rest of the instructions for this notebook.\n",
        "<br><br>\n",
        "**Enabling notebook extension fileupload/extension...**\n",
        "<br>\n",
        "**- Validating: <font color =green>OK</font>**"
      ],
      "metadata": {
        "id": "eTHD-_3ZTqEY"
      }
    },
    {
      "cell_type": "code",
      "source": [
        "print(\"This cannot work perfectly on Coursera!\")\n",
        "\n",
        "# Here are all the installs and imports you will need for your word cloud script and uploader widget\n",
        "'''\n",
        "%pip install wordcloud\n",
        "%pip install fileupload\n",
        "%pip install ipywidgets\n",
        "%jupyter nbextension install --py --user fileupload\n",
        "%jupyter nbextension enable --py fileupload\n",
        "\n",
        "import wordcloud\n",
        "import numpy as np\n",
        "from matplotlib import pyplot as plt\n",
        "from IPython.display import display\n",
        "import fileupload\n",
        "import io\n",
        "import sys\n",
        "'''"
      ],
      "metadata": {
        "execution": {
          "iopub.status.busy": "2022-09-13T09:58:16.511979Z",
          "iopub.execute_input": "2022-09-13T09:58:16.512355Z",
          "iopub.status.idle": "2022-09-13T09:58:16.520904Z",
          "shell.execute_reply.started": "2022-09-13T09:58:16.512325Z",
          "shell.execute_reply": "2022-09-13T09:58:16.519804Z"
        },
        "trusted": true,
        "id": "ui_LGCtOTqEY"
      },
      "execution_count": null,
      "outputs": []
    },
    {
      "cell_type": "markdown",
      "source": [
        "Whew! That was a lot. All of the installs and imports for your word cloud script and uploader widget have been completed.\n",
        "<br><br>\n",
        "**IMPORTANT!** If this was your first time running the above cell containing the installs and imports, you will need save this notebook now. Then under the File menu above,  select Close and Halt. When the notebook has completely shut down, reopen it. This is the only way the necessary changes will take affect.\n",
        "<br><br>\n",
        "To upload your text file, run the following cell that contains all the code for a custom uploader widget. Once you run this cell, a \"Browse\" button should appear below it. Click this button and navigate the window to locate your saved text file."
      ],
      "metadata": {
        "id": "AKBhSQu4TqEZ"
      }
    },
    {
      "cell_type": "code",
      "source": [
        "print(\"This cannot work perfectly on Coursera!\")\n",
        "\n",
        "'''\n",
        "# This is the uploader widget\n",
        "def _upload():\n",
        "\n",
        "    _upload_widget = fileupload.FileUploadWidget()\n",
        "\n",
        "    def _cb(change):\n",
        "        global file_contents\n",
        "        decoded = io.StringIO(change['owner'].data.decode('utf-8'))\n",
        "        filename = change['owner'].filename\n",
        "        print('Uploaded `{}` ({:.2f} kB)'.format(\n",
        "            filename, len(decoded.read()) / 2 **10))\n",
        "        file_contents = decoded.getvalue()\n",
        "\n",
        "    _upload_widget.observe(_cb, names='data')\n",
        "    display(_upload_widget)\n",
        "\n",
        "_upload()\n",
        "'''"
      ],
      "metadata": {
        "execution": {
          "iopub.status.busy": "2022-09-13T09:59:20.111966Z",
          "iopub.execute_input": "2022-09-13T09:59:20.11234Z",
          "iopub.status.idle": "2022-09-13T09:59:20.119867Z",
          "shell.execute_reply.started": "2022-09-13T09:59:20.112311Z",
          "shell.execute_reply": "2022-09-13T09:59:20.118878Z"
        },
        "trusted": true,
        "id": "loCKbG7fTqEZ"
      },
      "execution_count": null,
      "outputs": []
    },
    {
      "cell_type": "markdown",
      "source": [
        "The uploader widget saved the contents of your uploaded file into a string object named *file_contents* that your word cloud script can process. This was a lot of preliminary work, but you are now ready to begin your script."
      ],
      "metadata": {
        "id": "VCG-lEeFTqEa"
      }
    },
    {
      "cell_type": "markdown",
      "source": [
        "Write a function in the cell below that iterates through the words in *file_contents*, removes punctuation, and counts the frequency of each word.  Oh, and be sure to make it ignore word case, words that do not contain all alphabets and boring words like \"and\" or \"the\".  Then use it in the `generate_from_frequencies` function to generate your very own word cloud!\n",
        "<br><br>\n",
        "**Hint:** Try storing the results of your iteration in a dictionary before passing them into wordcloud via the `generate_from_frequencies` function."
      ],
      "metadata": {
        "id": "Shc7oFVtTqEa"
      }
    },
    {
      "cell_type": "code",
      "source": [
        "print(\"This cannot work perfectly on Coursera!\")\n",
        "\n",
        "'''\n",
        "def calculate_frequencies(file_contents):\n",
        "    # Here is a list of punctuations and uninteresting words you can use to process your text\n",
        "    punctuations = \"\"\"!()-[]{};:'\"\\,<>./?@#$%^&*_~\"\"\"\n",
        "    uninteresting_words = [\"the\", \"a\", \"to\", \"if\", \"is\", \"it\", \"of\", \"and\", \"or\", \"an\", \"as\", \"i\", \"me\", \"my\", \\\n",
        "    \"we\", \"our\", \"ours\", \"you\", \"your\", \"yours\", \"he\", \"she\", \"him\", \"his\", \"her\", \"hers\", \"its\", \"they\", \"them\", \\\n",
        "    \"their\", \"what\", \"which\", \"who\", \"whom\", \"this\", \"that\", \"am\", \"are\", \"was\", \"were\", \"be\", \"been\", \"being\", \\\n",
        "    \"have\", \"has\", \"had\", \"do\", \"does\", \"did\", \"but\", \"at\", \"by\", \"with\", \"from\", \"here\", \"when\", \"where\", \"how\", \\\n",
        "    \"all\", \"any\", \"both\", \"each\", \"few\", \"more\", \"some\", \"such\", \"no\", \"nor\", \"too\", \"very\", \"can\", \"will\", \"just\"]\n",
        "\n",
        "    # LEARNER CODE START HERE\n",
        "    refined_text = \"\"\n",
        "    frequency_count = {}\n",
        "\n",
        "    #removing punctuation s and uninteresting words\n",
        "    for char in file_contents:\n",
        "        if char not in punctuations:\n",
        "            refined_text += char\n",
        "\n",
        "    #splitting the text into word list\n",
        "    word_list = refined_text.split()\n",
        "\n",
        "    #removing uninteresting words\n",
        "    for word in word_list:\n",
        "        if word.lower() not in uninteresting_words:\n",
        "            if word in frequency_count:\n",
        "                frequency_count[word] += 1\n",
        "            else:\n",
        "                frequency_count[word] = 1\n",
        "\n",
        "    #wordcloud\n",
        "    cloud = wordcloud.WordCloud()\n",
        "    cloud.generate_from_frequencies(frequency_count)\n",
        "    return cloud.to_array()\n",
        "'''"
      ],
      "metadata": {
        "execution": {
          "iopub.status.busy": "2022-09-13T10:00:53.827204Z",
          "iopub.execute_input": "2022-09-13T10:00:53.827573Z",
          "iopub.status.idle": "2022-09-13T10:00:53.837757Z",
          "shell.execute_reply.started": "2022-09-13T10:00:53.827542Z",
          "shell.execute_reply": "2022-09-13T10:00:53.83635Z"
        },
        "trusted": true,
        "id": "NLa4Ea6lTqEb"
      },
      "execution_count": null,
      "outputs": []
    },
    {
      "cell_type": "markdown",
      "source": [
        "If you have done everything correctly, your word cloud image should appear after running the cell below.  Fingers crossed!"
      ],
      "metadata": {
        "id": "KyOzm8L0TqEb"
      }
    },
    {
      "cell_type": "code",
      "source": [
        "print(\"This cannot work perfectly on Coursera!\")\n",
        "\n",
        "'''\n",
        "# Display your wordcloud image\n",
        "file_contents = 'nurudeen.txt'\n",
        "myimage = calculate_frequencies(file_contents)\n",
        "plt.imshow(myimage, interpolation = 'nearest')\n",
        "plt.axis('off')\n",
        "plt.show()\n",
        "'''"
      ],
      "metadata": {
        "execution": {
          "iopub.status.busy": "2022-09-13T10:01:21.96374Z",
          "iopub.execute_input": "2022-09-13T10:01:21.96409Z",
          "iopub.status.idle": "2022-09-13T10:01:21.972606Z",
          "shell.execute_reply.started": "2022-09-13T10:01:21.964057Z",
          "shell.execute_reply": "2022-09-13T10:01:21.971345Z"
        },
        "trusted": true,
        "id": "eerj7mVYTqEc"
      },
      "execution_count": null,
      "outputs": []
    },
    {
      "cell_type": "markdown",
      "source": [
        "If your word cloud image did not appear, go back and rework your `calculate_frequencies` function until you get the desired output.  Definitely check that you passed your frequecy count dictionary into the `generate_from_frequencies` function of `wordcloud`. Once you have correctly displayed your word cloud image, you are all done with this project. Nice work!"
      ],
      "metadata": {
        "id": "_Egwe6PUTqEe"
      }
    },
    {
      "cell_type": "markdown",
      "source": [
        "<h1 align = \"center\">THE END!</h1>"
      ],
      "metadata": {
        "id": "RSOB3WvMTqEf"
      }
    }
  ]
}